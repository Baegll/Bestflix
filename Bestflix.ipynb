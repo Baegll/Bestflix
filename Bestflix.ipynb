{
  "nbformat": 4,
  "nbformat_minor": 0,
  "metadata": {
    "colab": {
      "provenance": []
    },
    "kernelspec": {
      "name": "python3",
      "display_name": "Python 3"
    },
    "language_info": {
      "name": "python"
    }
  },
  "cells": [
    {
      "cell_type": "code",
      "execution_count": 5,
      "metadata": {
        "id": "mjtncImeCphQ"
      },
      "outputs": [],
      "source": [
        "import pandas as pd"
      ]
    },
    {
      "cell_type": "markdown",
      "source": [
        "IMDB (https://datasets.imdbws.com/) has data available for use, but it requires some preprocessing. For starters, the name of the movie and the rating aren't in the same dataset. So we will combine those to one pandas dataframe."
      ],
      "metadata": {
        "id": "CmsdajRio2P6"
      }
    },
    {
      "cell_type": "code",
      "source": [
        "imdb_basics = pd.read_csv('data_imdb_basics.tsv', sep='\\t')\n",
        "imdb_basics.shape"
      ],
      "metadata": {
        "colab": {
          "base_uri": "https://localhost:8080/"
        },
        "id": "XZgSPCcW75Zd",
        "outputId": "c64501b3-7531-4c89-8ab6-6fe7eee56f66"
      },
      "execution_count": 6,
      "outputs": [
        {
          "output_type": "execute_result",
          "data": {
            "text/plain": [
              "(186750, 9)"
            ]
          },
          "metadata": {},
          "execution_count": 6
        }
      ]
    },
    {
      "cell_type": "code",
      "source": [
        "imdb_ratings = pd.read_csv('data_imdb_ratings.tsv', sep='\\t')\n",
        "imdb_ratings.shape"
      ],
      "metadata": {
        "colab": {
          "base_uri": "https://localhost:8080/"
        },
        "id": "aTPqX_iL76gz",
        "outputId": "fc2e206c-7874-47dd-d3a9-ec6781954bb8"
      },
      "execution_count": 7,
      "outputs": [
        {
          "output_type": "execute_result",
          "data": {
            "text/plain": [
              "(964913, 3)"
            ]
          },
          "metadata": {},
          "execution_count": 7
        }
      ]
    },
    {
      "cell_type": "code",
      "source": [
        "netflix = pd.read_csv('netflix_titles.csv')\n",
        "netflix.shape"
      ],
      "metadata": {
        "colab": {
          "base_uri": "https://localhost:8080/"
        },
        "id": "Q9HnXRLJ76Lh",
        "outputId": "552929df-00f6-4a2b-bcb5-b80adad4379b"
      },
      "execution_count": 8,
      "outputs": [
        {
          "output_type": "execute_result",
          "data": {
            "text/plain": [
              "(8807, 12)"
            ]
          },
          "metadata": {},
          "execution_count": 8
        }
      ]
    },
    {
      "cell_type": "code",
      "source": [
        "print(f\"NETFLIX:\\n{netflix.iloc[:1]}\\n\\n\\nIMDB BASICS:\\n{imdb_basics.iloc[:5]}\\n\\n\\nIMDB RATINGS:\\n{imdb_ratings.iloc[:5]}\")"
      ],
      "metadata": {
        "colab": {
          "base_uri": "https://localhost:8080/"
        },
        "id": "C-3d9ySZQb6S",
        "outputId": "701ac46a-e377-4995-c94d-68ad3afe4393"
      },
      "execution_count": 9,
      "outputs": [
        {
          "output_type": "stream",
          "name": "stdout",
          "text": [
            "NETFLIX:\n",
            "  show_id   type                 title         director cast        country  \\\n",
            "0      s1  Movie  Dick Johnson Is Dead  Kirsten Johnson  NaN  United States   \n",
            "\n",
            "           date_added  release_year rating duration      listed_in  \\\n",
            "0  September 25, 2021          2020  PG-13   90 min  Documentaries   \n",
            "\n",
            "                                         description  \n",
            "0  As her father nears the end of his life, filmm...  \n",
            "\n",
            "\n",
            "IMDB BASICS:\n",
            "      tconst titleType            primaryTitle           originalTitle  \\\n",
            "0  tt0000001     short              Carmencita              Carmencita   \n",
            "1  tt0000002     short  Le clown et ses chiens  Le clown et ses chiens   \n",
            "2  tt0000003     short          Pauvre Pierrot          Pauvre Pierrot   \n",
            "3  tt0000004     short             Un bon bock             Un bon bock   \n",
            "4  tt0000005     short        Blacksmith Scene        Blacksmith Scene   \n",
            "\n",
            "   isAdult startYear endYear runtimeMinutes                    genres  \n",
            "0        0      1894      \\N              1         Documentary,Short  \n",
            "1        0      1892      \\N              5           Animation,Short  \n",
            "2        0      1892      \\N              4  Animation,Comedy,Romance  \n",
            "3        0      1892      \\N             12           Animation,Short  \n",
            "4        0      1893      \\N              1              Comedy,Short  \n",
            "\n",
            "\n",
            "IMDB RATINGS:\n",
            "      tconst  averageRating  numVotes\n",
            "0  tt0000001            5.7    1952.0\n",
            "1  tt0000002            5.8     264.0\n",
            "2  tt0000003            6.5    1786.0\n",
            "3  tt0000004            5.6     179.0\n",
            "4  tt0000005            6.2    2586.0\n"
          ]
        }
      ]
    },
    {
      "cell_type": "code",
      "source": [
        "imdb_combined = pd.concat([imdb_basics, imdb_ratings], axis=1, join='inner')\n",
        "print(f\"{imdb_combined.shape}\")\n",
        "\n",
        "print(f\"\\nIMDB COMBINED:\\n{imdb_combined.iloc[:5]}\")"
      ],
      "metadata": {
        "colab": {
          "base_uri": "https://localhost:8080/"
        },
        "id": "MjbeMqsHcQ_F",
        "outputId": "60b72ce1-252b-4f08-80bf-325fdb1bc0d5"
      },
      "execution_count": 10,
      "outputs": [
        {
          "output_type": "stream",
          "name": "stdout",
          "text": [
            "(186750, 12)\n",
            "\n",
            "IMDB COMBINED:\n",
            "      tconst titleType            primaryTitle           originalTitle  \\\n",
            "0  tt0000001     short              Carmencita              Carmencita   \n",
            "1  tt0000002     short  Le clown et ses chiens  Le clown et ses chiens   \n",
            "2  tt0000003     short          Pauvre Pierrot          Pauvre Pierrot   \n",
            "3  tt0000004     short             Un bon bock             Un bon bock   \n",
            "4  tt0000005     short        Blacksmith Scene        Blacksmith Scene   \n",
            "\n",
            "   isAdult startYear endYear runtimeMinutes                    genres  \\\n",
            "0        0      1894      \\N              1         Documentary,Short   \n",
            "1        0      1892      \\N              5           Animation,Short   \n",
            "2        0      1892      \\N              4  Animation,Comedy,Romance   \n",
            "3        0      1892      \\N             12           Animation,Short   \n",
            "4        0      1893      \\N              1              Comedy,Short   \n",
            "\n",
            "      tconst  averageRating  numVotes  \n",
            "0  tt0000001            5.7    1952.0  \n",
            "1  tt0000002            5.8     264.0  \n",
            "2  tt0000003            6.5    1786.0  \n",
            "3  tt0000004            5.6     179.0  \n",
            "4  tt0000005            6.2    2586.0  \n"
          ]
        }
      ]
    },
    {
      "cell_type": "markdown",
      "source": [
        "Data is now in two sets, Netflix information, and IMDB information. Lets create one data set that contains Netflix, and IMDB movies together."
      ],
      "metadata": {
        "id": "N09pIFG833NT"
      }
    },
    {
      "cell_type": "code",
      "source": [
        "netflix_imdb_combined = pd.merge(netflix,imdb_combined, suffixes=['_netflix','_imdb'], left_on='title', right_on='originalTitle')\n",
        "print(f\"{netflix_imdb_combined.shape}\\n\\nNETFLIX IMDB COMBINED:\\n{netflix_imdb_combined.iloc[:1]}\")"
      ],
      "metadata": {
        "colab": {
          "base_uri": "https://localhost:8080/"
        },
        "id": "VoOcj3WQ8OtX",
        "outputId": "050b2169-e4c2-4872-c9ce-b0cbf169e3d0"
      },
      "execution_count": 11,
      "outputs": [
        {
          "output_type": "stream",
          "name": "stdout",
          "text": [
            "(2301, 24)\n",
            "\n",
            "NETFLIX IMDB COMBINED:\n",
            "  show_id     type          title       director  \\\n",
            "0      s6  TV Show  Midnight Mass  Mike Flanagan   \n",
            "\n",
            "                                                cast country  \\\n",
            "0  Kate Siegel, Zach Gilford, Hamish Linklater, H...     NaN   \n",
            "\n",
            "           date_added  release_year rating  duration  ...   primaryTitle  \\\n",
            "0  September 24, 2021          2021  TV-MA  1 Season  ...  Midnight Mass   \n",
            "\n",
            "   originalTitle isAdult startYear endYear runtimeMinutes  genres     tconst  \\\n",
            "0  Midnight Mass       0      1999      \\N             \\N   Drama  tt0216854   \n",
            "\n",
            "  averageRating numVotes  \n",
            "0           5.3     11.0  \n",
            "\n",
            "[1 rows x 24 columns]\n"
          ]
        }
      ]
    },
    {
      "cell_type": "markdown",
      "source": [
        "Now we have a combined dataframe of the shows available on netflix, and their imdb information. Lets filter out the TV shows"
      ],
      "metadata": {
        "id": "ZaokfM0E_km7"
      }
    },
    {
      "cell_type": "code",
      "source": [
        "netflix_imdb_combined_no_tv = netflix_imdb_combined[(netflix_imdb_combined['type'] == 'Movie')]\n",
        "print(f\"{netflix_imdb_combined_no_tv.shape}\\n\\nCOMBINED NO TV:\\n{netflix_imdb_combined_no_tv.iloc[:1]}\")"
      ],
      "metadata": {
        "colab": {
          "base_uri": "https://localhost:8080/"
        },
        "id": "ugjwza_4aQTP",
        "outputId": "70e499f1-ad41-4c5d-ca3f-deb6a96c58f2"
      },
      "execution_count": 12,
      "outputs": [
        {
          "output_type": "stream",
          "name": "stdout",
          "text": [
            "(1673, 24)\n",
            "\n",
            "COMBINED NO TV:\n",
            "  show_id   type    title      director  \\\n",
            "1      s8  Movie  Sankofa  Haile Gerima   \n",
            "\n",
            "                                                cast  \\\n",
            "1  Kofi Ghanaba, Oyafunmike Ogunlano, Alexandra D...   \n",
            "\n",
            "                                             country          date_added  \\\n",
            "1  United States, Ghana, Burkina Faso, United Kin...  September 24, 2021   \n",
            "\n",
            "   release_year rating duration  ... primaryTitle originalTitle isAdult  \\\n",
            "1          1993  TV-MA  125 min  ...      Sankofa       Sankofa       0   \n",
            "\n",
            "  startYear endYear runtimeMinutes  genres     tconst averageRating numVotes  \n",
            "1      1993      \\N            125   Drama  tt0150986           5.7     51.0  \n",
            "\n",
            "[1 rows x 24 columns]\n"
          ]
        }
      ]
    },
    {
      "cell_type": "markdown",
      "source": [
        " Lets start by creating our test/training data split (85/15)"
      ],
      "metadata": {
        "id": "lUj9LCzebZOH"
      }
    },
    {
      "cell_type": "code",
      "source": [
        "from sklearn.model_selection import train_test_split"
      ],
      "metadata": {
        "id": "VNzOtFRfcT7A"
      },
      "execution_count": 17,
      "outputs": []
    },
    {
      "cell_type": "code",
      "source": [
        "train, test = train_test_split(netflix_imdb_combined_no_tv, test_size=0.15)\n",
        "\n",
        "print(f\"TRAINING:\\t{train.shape}\\n{train.iloc[:1]}\\n\\n\\nTESTING:\\t{test.shape}\\n{test.iloc[:1]}\")"
      ],
      "metadata": {
        "colab": {
          "base_uri": "https://localhost:8080/"
        },
        "id": "hbOfCiAUcj7x",
        "outputId": "8f6d7315-3a11-43c3-da15-a3892706f808"
      },
      "execution_count": 18,
      "outputs": [
        {
          "output_type": "stream",
          "name": "stdout",
          "text": [
            "TRAINING:\t(1422, 24)\n",
            "   show_id   type          title    director  \\\n",
            "61    s162  Movie  Mars Attacks!  Tim Burton   \n",
            "\n",
            "                                                 cast        country  \\\n",
            "61  Jack Nicholson, Glenn Close, Annette Bening, P...  United States   \n",
            "\n",
            "           date_added  release_year rating duration  ...   primaryTitle  \\\n",
            "61  September 1, 2021          1996  PG-13  106 min  ...  Mars Attacks!   \n",
            "\n",
            "    originalTitle isAdult startYear endYear runtimeMinutes         genres  \\\n",
            "61  Mars Attacks!       0      1996      \\N            106  Comedy,Sci-Fi   \n",
            "\n",
            "       tconst averageRating numVotes  \n",
            "61  tt0167872           7.7   4706.0  \n",
            "\n",
            "[1 rows x 24 columns]\n",
            "\n",
            "\n",
            "TESTING:\t(251, 24)\n",
            "    show_id   type    title       director  \\\n",
            "844   s3204  Movie  Why Me?  Tudor Giurgiu   \n",
            "\n",
            "                                                  cast  \\\n",
            "844  Emilian Oprea, Mihai Constantin, Andreea Vasil...   \n",
            "\n",
            "                        country        date_added  release_year rating  \\\n",
            "844  Romania, Bulgaria, Hungary  December 1, 2019          2015  TV-MA   \n",
            "\n",
            "    duration  ... primaryTitle originalTitle isAdult startYear endYear  \\\n",
            "844  126 min  ...      Why Me?       Why Me?       0      1984      \\N   \n",
            "\n",
            "    runtimeMinutes  genres     tconst averageRating numVotes  \n",
            "844            100   Drama  tt0116316           2.9     17.0  \n",
            "\n",
            "[1 rows x 24 columns]\n"
          ]
        }
      ]
    },
    {
      "cell_type": "code",
      "source": [
        "# Generate list of all genres\n",
        "genre_list = []\n",
        "\n",
        "for genres in train['genres']:\n",
        "  genre_sep = genres.split(',')\n",
        "  genre_list = genre_list + genre_sep\n",
        "\n",
        "# Find unique genres from our data.\n",
        "list_set = set(genre_list)\n",
        "unique_list_genre = (list(list_set))\n",
        "unique_list_genre.remove(\"\\\\N\")\n",
        "for genre in unique_list_genre:\n",
        "  print(genre)"
      ],
      "metadata": {
        "colab": {
          "base_uri": "https://localhost:8080/"
        },
        "id": "lUcbNJzB9TVQ",
        "outputId": "db92efd3-93c5-46bc-f8c4-ddc0c7d42fb8"
      },
      "execution_count": 23,
      "outputs": [
        {
          "output_type": "stream",
          "name": "stdout",
          "text": [
            "Biography\n",
            "Game-Show\n",
            "Animation\n",
            "Horror\n",
            "Musical\n",
            "Sci-Fi\n",
            "Sport\n",
            "Film-Noir\n",
            "Western\n",
            "Talk-Show\n",
            "Documentary\n",
            "Family\n",
            "Music\n",
            "Drama\n",
            "Adventure\n",
            "Short\n",
            "Adult\n",
            "Mystery\n",
            "History\n",
            "Reality-TV\n",
            "War\n",
            "Crime\n",
            "Fantasy\n",
            "Romance\n",
            "Comedy\n",
            "Thriller\n",
            "Action\n"
          ]
        }
      ]
    },
    {
      "cell_type": "code",
      "source": [
        "# Create dictionary for all genres\n",
        "genre_split = {}\n",
        "# Add each genre as a key, and its dictionary as the value\n",
        "for genre in unique_list_genre:\n",
        "  genre_split[genre] = train.loc[(train['genres'].str.contains(genre))]\n",
        "\n",
        "print(genre_split['Horror'].iloc[:1])"
      ],
      "metadata": {
        "colab": {
          "base_uri": "https://localhost:8080/"
        },
        "id": "JRvQg7b9tQEH",
        "outputId": "d37e24f5-4afa-444f-9d0a-07ff70837fba"
      },
      "execution_count": 34,
      "outputs": [
        {
          "output_type": "stream",
          "name": "stdout",
          "text": [
            "    show_id   type     title      director  \\\n",
            "209    s620  Movie  Deranged  Jameel Buari   \n",
            "\n",
            "                                                  cast country     date_added  \\\n",
            "209  Nadia Buari, Ramsey Nouah, Zynnell Zuh, Prisci...     NaN  June 30, 2021   \n",
            "\n",
            "     release_year rating duration  ...                           primaryTitle  \\\n",
            "209          2020  TV-14   98 min  ...  Deranged: Confessions of a Necrophile   \n",
            "\n",
            "    originalTitle isAdult startYear endYear runtimeMinutes  \\\n",
            "209      Deranged       0      1974      \\N             84   \n",
            "\n",
            "                    genres     tconst averageRating numVotes  \n",
            "209  Drama,Horror,Thriller  tt0096398           4.6     18.0  \n",
            "\n",
            "[1 rows x 24 columns]\n"
          ]
        }
      ]
    },
    {
      "cell_type": "markdown",
      "source": [
        "Now all of our data is split by genre as well."
      ],
      "metadata": {
        "id": "mV-HPdPAQztp"
      }
    },
    {
      "cell_type": "code",
      "source": [],
      "metadata": {
        "id": "OA2iAcIiLZHV"
      },
      "execution_count": 34,
      "outputs": []
    }
  ]
}