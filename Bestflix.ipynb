{
  "nbformat": 4,
  "nbformat_minor": 0,
  "metadata": {
    "colab": {
      "provenance": []
    },
    "kernelspec": {
      "name": "python3",
      "display_name": "Python 3"
    },
    "language_info": {
      "name": "python"
    }
  },
  "cells": [
    {
      "cell_type": "code",
      "execution_count": 2,
      "metadata": {
        "id": "mjtncImeCphQ"
      },
      "outputs": [],
      "source": [
        "import pandas as pd"
      ]
    },
    {
      "cell_type": "markdown",
      "source": [
        "IMDB (https://datasets.imdbws.com/) has data available for use, but it requires some preprocessing. For starters, the name of the movie and the rating aren't in the same dataset. So we will combine those to one pandas dataframe."
      ],
      "metadata": {
        "id": "CmsdajRio2P6"
      }
    },
    {
      "cell_type": "code",
      "source": [
        "imdb_basics = pd.read_csv('data_imdb_basics.tsv', sep='\\t')\n",
        "imdb_ratings = pd.read_csv('data_imdb_ratings.tsv', sep='\\t')\n",
        "\n",
        "print(f\"IMDB BASICS:\\n{imdb_basics.iloc[:5]}\")\n",
        "print('\\n\\n\\n')\n",
        "print(f\"IMDB RATINGS:\\n{imdb_ratings.iloc[:5]}\")"
      ],
      "metadata": {
        "colab": {
          "base_uri": "https://localhost:8080/"
        },
        "id": "C-3d9ySZQb6S",
        "outputId": "9c2e7eb8-8e00-4ec6-ace9-b1b3d4e8d513"
      },
      "execution_count": 19,
      "outputs": [
        {
          "output_type": "stream",
          "name": "stderr",
          "text": [
            "/usr/local/lib/python3.8/dist-packages/IPython/core/interactiveshell.py:3326: DtypeWarning: Columns (4) have mixed types.Specify dtype option on import or set low_memory=False.\n",
            "  exec(code_obj, self.user_global_ns, self.user_ns)\n"
          ]
        },
        {
          "output_type": "stream",
          "name": "stdout",
          "text": [
            "IMDB BASICS:\n",
            "      tconst titleType            primaryTitle           originalTitle  \\\n",
            "0  tt0000001     short              Carmencita              Carmencita   \n",
            "1  tt0000002     short  Le clown et ses chiens  Le clown et ses chiens   \n",
            "2  tt0000003     short          Pauvre Pierrot          Pauvre Pierrot   \n",
            "3  tt0000004     short             Un bon bock             Un bon bock   \n",
            "4  tt0000005     short        Blacksmith Scene        Blacksmith Scene   \n",
            "\n",
            "  isAdult startYear endYear runtimeMinutes                    genres  \n",
            "0       0      1894      \\N              1         Documentary,Short  \n",
            "1       0      1892      \\N              5           Animation,Short  \n",
            "2       0      1892      \\N              4  Animation,Comedy,Romance  \n",
            "3       0      1892      \\N             12           Animation,Short  \n",
            "4       0      1893      \\N              1              Comedy,Short  \n",
            "\n",
            "\n",
            "\n",
            "\n",
            "IMDB RATINGS:\n",
            "      tconst  averageRating  numVotes\n",
            "0  tt0000001            5.7      1952\n",
            "1  tt0000002            5.8       264\n",
            "2  tt0000003            6.5      1786\n",
            "3  tt0000004            5.6       179\n",
            "4  tt0000005            6.2      2586\n"
          ]
        }
      ]
    },
    {
      "cell_type": "code",
      "source": [
        "imdb_combined = pd.concat([imdb_basics, imdb_ratings], axis=1, join='inner')\n",
        "\n",
        "print(imdb_combined.iloc[:5])"
      ],
      "metadata": {
        "colab": {
          "base_uri": "https://localhost:8080/"
        },
        "id": "MjbeMqsHcQ_F",
        "outputId": "3504cdc4-13b8-40ca-829b-66fcfdc2b404"
      },
      "execution_count": 20,
      "outputs": [
        {
          "output_type": "stream",
          "name": "stdout",
          "text": [
            "      tconst titleType            primaryTitle           originalTitle  \\\n",
            "0  tt0000001     short              Carmencita              Carmencita   \n",
            "1  tt0000002     short  Le clown et ses chiens  Le clown et ses chiens   \n",
            "2  tt0000003     short          Pauvre Pierrot          Pauvre Pierrot   \n",
            "3  tt0000004     short             Un bon bock             Un bon bock   \n",
            "4  tt0000005     short        Blacksmith Scene        Blacksmith Scene   \n",
            "\n",
            "  isAdult startYear endYear runtimeMinutes                    genres  \\\n",
            "0       0      1894      \\N              1         Documentary,Short   \n",
            "1       0      1892      \\N              5           Animation,Short   \n",
            "2       0      1892      \\N              4  Animation,Comedy,Romance   \n",
            "3       0      1892      \\N             12           Animation,Short   \n",
            "4       0      1893      \\N              1              Comedy,Short   \n",
            "\n",
            "      tconst  averageRating  numVotes  \n",
            "0  tt0000001            5.7      1952  \n",
            "1  tt0000002            5.8       264  \n",
            "2  tt0000003            6.5      1786  \n",
            "3  tt0000004            5.6       179  \n",
            "4  tt0000005            6.2      2586  \n"
          ]
        }
      ]
    }
  ]
}