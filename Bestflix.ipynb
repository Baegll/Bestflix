{
  "nbformat": 4,
  "nbformat_minor": 0,
  "metadata": {
    "colab": {
      "provenance": []
    },
    "kernelspec": {
      "name": "python3",
      "display_name": "Python 3"
    },
    "language_info": {
      "name": "python"
    }
  },
  "cells": [
    {
      "cell_type": "code",
      "execution_count": 47,
      "metadata": {
        "id": "mjtncImeCphQ"
      },
      "outputs": [],
      "source": [
        "import pandas as pd"
      ]
    },
    {
      "cell_type": "markdown",
      "source": [
        "IMDB (https://datasets.imdbws.com/) has data available for use, but it requires some preprocessing. For starters, the name of the movie and the rating aren't in the same dataset. So we will combine those to one pandas dataframe."
      ],
      "metadata": {
        "id": "CmsdajRio2P6"
      }
    },
    {
      "cell_type": "code",
      "source": [
        "imdb_basics = pd.read_csv('data_imdb_basics.tsv', sep='\\t')\n",
        "imdb_basics.shape"
      ],
      "metadata": {
        "colab": {
          "base_uri": "https://localhost:8080/"
        },
        "id": "XZgSPCcW75Zd",
        "outputId": "3be8e574-3314-4202-eae3-0f37cc7162c9"
      },
      "execution_count": 55,
      "outputs": [
        {
          "output_type": "stream",
          "name": "stderr",
          "text": [
            "/usr/local/lib/python3.8/dist-packages/IPython/core/interactiveshell.py:3326: DtypeWarning: Columns (4) have mixed types.Specify dtype option on import or set low_memory=False.\n",
            "  exec(code_obj, self.user_global_ns, self.user_ns)\n"
          ]
        },
        {
          "output_type": "execute_result",
          "data": {
            "text/plain": [
              "(9621894, 9)"
            ]
          },
          "metadata": {},
          "execution_count": 55
        }
      ]
    },
    {
      "cell_type": "code",
      "source": [
        "imdb_ratings = pd.read_csv('data_imdb_ratings.tsv', sep='\\t')\n",
        "imdb_ratings.shape"
      ],
      "metadata": {
        "colab": {
          "base_uri": "https://localhost:8080/"
        },
        "id": "aTPqX_iL76gz",
        "outputId": "91cec5a9-c75b-433a-9859-b0be72a4cd69"
      },
      "execution_count": 56,
      "outputs": [
        {
          "output_type": "execute_result",
          "data": {
            "text/plain": [
              "(1280237, 3)"
            ]
          },
          "metadata": {},
          "execution_count": 56
        }
      ]
    },
    {
      "cell_type": "code",
      "source": [
        "netflix = pd.read_csv('netflix_titles.csv')\n",
        "netflix.shape"
      ],
      "metadata": {
        "colab": {
          "base_uri": "https://localhost:8080/"
        },
        "id": "Q9HnXRLJ76Lh",
        "outputId": "d8fa10df-2f06-4b35-aa87-8f90b4fccd8a"
      },
      "execution_count": 57,
      "outputs": [
        {
          "output_type": "execute_result",
          "data": {
            "text/plain": [
              "(8807, 12)"
            ]
          },
          "metadata": {},
          "execution_count": 57
        }
      ]
    },
    {
      "cell_type": "code",
      "source": [
        "print(f\"NETFLIX:\\n{netflix.iloc[:1]}\\n\\n\\nIMDB BASICS:\\n{imdb_basics.iloc[:5]}\\n\\n\\nIMDB RATINGS:\\n{imdb_ratings.iloc[:5]}\")"
      ],
      "metadata": {
        "colab": {
          "base_uri": "https://localhost:8080/"
        },
        "id": "C-3d9ySZQb6S",
        "outputId": "d6c75e44-f2ac-459d-de25-74c3941d264c"
      },
      "execution_count": 58,
      "outputs": [
        {
          "output_type": "stream",
          "name": "stdout",
          "text": [
            "NETFLIX:\n",
            "  show_id   type                 title         director cast        country  \\\n",
            "0      s1  Movie  Dick Johnson Is Dead  Kirsten Johnson  NaN  United States   \n",
            "\n",
            "           date_added  release_year rating duration      listed_in  \\\n",
            "0  September 25, 2021          2020  PG-13   90 min  Documentaries   \n",
            "\n",
            "                                         description  \n",
            "0  As her father nears the end of his life, filmm...  \n",
            "\n",
            "\n",
            "IMDB BASICS:\n",
            "      tconst titleType            primaryTitle           originalTitle  \\\n",
            "0  tt0000001     short              Carmencita              Carmencita   \n",
            "1  tt0000002     short  Le clown et ses chiens  Le clown et ses chiens   \n",
            "2  tt0000003     short          Pauvre Pierrot          Pauvre Pierrot   \n",
            "3  tt0000004     short             Un bon bock             Un bon bock   \n",
            "4  tt0000005     short        Blacksmith Scene        Blacksmith Scene   \n",
            "\n",
            "  isAdult startYear endYear runtimeMinutes                    genres  \n",
            "0       0      1894      \\N              1         Documentary,Short  \n",
            "1       0      1892      \\N              5           Animation,Short  \n",
            "2       0      1892      \\N              4  Animation,Comedy,Romance  \n",
            "3       0      1892      \\N             12           Animation,Short  \n",
            "4       0      1893      \\N              1              Comedy,Short  \n",
            "\n",
            "\n",
            "IMDB RATINGS:\n",
            "      tconst  averageRating  numVotes\n",
            "0  tt0000001            5.7      1952\n",
            "1  tt0000002            5.8       264\n",
            "2  tt0000003            6.5      1786\n",
            "3  tt0000004            5.6       179\n",
            "4  tt0000005            6.2      2586\n"
          ]
        }
      ]
    },
    {
      "cell_type": "code",
      "source": [
        "imdb_combined = pd.concat([imdb_basics, imdb_ratings], axis=1, join='inner')\n",
        "print(f\"{imdb_combined.shape}\")\n",
        "\n",
        "print(f\"\\nIMDB COMBINED:\\n{imdb_combined.iloc[:5]}\")"
      ],
      "metadata": {
        "colab": {
          "base_uri": "https://localhost:8080/"
        },
        "id": "MjbeMqsHcQ_F",
        "outputId": "fbc3b8a3-8adb-4126-fef9-df77b54460a7"
      },
      "execution_count": 61,
      "outputs": [
        {
          "output_type": "stream",
          "name": "stdout",
          "text": [
            "(1280237, 12)\n",
            "\n",
            "IMDB COMBINED:\n",
            "      tconst titleType            primaryTitle           originalTitle  \\\n",
            "0  tt0000001     short              Carmencita              Carmencita   \n",
            "1  tt0000002     short  Le clown et ses chiens  Le clown et ses chiens   \n",
            "2  tt0000003     short          Pauvre Pierrot          Pauvre Pierrot   \n",
            "3  tt0000004     short             Un bon bock             Un bon bock   \n",
            "4  tt0000005     short        Blacksmith Scene        Blacksmith Scene   \n",
            "\n",
            "  isAdult startYear endYear runtimeMinutes                    genres  \\\n",
            "0       0      1894      \\N              1         Documentary,Short   \n",
            "1       0      1892      \\N              5           Animation,Short   \n",
            "2       0      1892      \\N              4  Animation,Comedy,Romance   \n",
            "3       0      1892      \\N             12           Animation,Short   \n",
            "4       0      1893      \\N              1              Comedy,Short   \n",
            "\n",
            "      tconst  averageRating  numVotes  \n",
            "0  tt0000001            5.7      1952  \n",
            "1  tt0000002            5.8       264  \n",
            "2  tt0000003            6.5      1786  \n",
            "3  tt0000004            5.6       179  \n",
            "4  tt0000005            6.2      2586  \n"
          ]
        }
      ]
    },
    {
      "cell_type": "markdown",
      "source": [
        "Data is now in two sets, Netflix information, and IMDB information. Lets create one data set that contains Netflix, and IMDB movies together."
      ],
      "metadata": {
        "id": "N09pIFG833NT"
      }
    },
    {
      "cell_type": "code",
      "source": [
        "netflix_imdb_combined = pd.merge(netflix,imdb_combined, suffixes=['_netflix','_imdb'], left_on='title', right_on='originalTitle')\n",
        "print(f\"{netflix_imdb_combined.shape}\\n\\nNETFLIX IMDB COMBINED:\\n{netflix_imdb_combined.iloc[:1]}\")"
      ],
      "metadata": {
        "colab": {
          "base_uri": "https://localhost:8080/"
        },
        "id": "VoOcj3WQ8OtX",
        "outputId": "d7459564-648a-4ae8-924e-5ac245d3dacd"
      },
      "execution_count": 68,
      "outputs": [
        {
          "output_type": "stream",
          "name": "stdout",
          "text": [
            "(13351, 24)\n",
            "\n",
            "NETFLIX IMDB COMBINED:\n",
            "  show_id     type          title       director  \\\n",
            "0      s6  TV Show  Midnight Mass  Mike Flanagan   \n",
            "\n",
            "                                                cast country  \\\n",
            "0  Kate Siegel, Zach Gilford, Hamish Linklater, H...     NaN   \n",
            "\n",
            "           date_added  release_year rating  duration  ...   primaryTitle  \\\n",
            "0  September 24, 2021          2021  TV-MA  1 Season  ...  Midnight Mass   \n",
            "\n",
            "   originalTitle isAdult startYear endYear runtimeMinutes genres     tconst  \\\n",
            "0  Midnight Mass       0      1999      \\N             \\N  Drama  tt0216854   \n",
            "\n",
            "  averageRating numVotes  \n",
            "0           5.3       11  \n",
            "\n",
            "[1 rows x 24 columns]\n"
          ]
        }
      ]
    },
    {
      "cell_type": "markdown",
      "source": [
        "Now we have a combined dataframe of the shows available on netflix, and their imdb information."
      ],
      "metadata": {
        "id": "ZaokfM0E_km7"
      }
    }
  ]
}