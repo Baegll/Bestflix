{
  "nbformat": 4,
  "nbformat_minor": 0,
  "metadata": {
    "colab": {
      "provenance": []
    },
    "kernelspec": {
      "name": "python3",
      "display_name": "Python 3"
    },
    "language_info": {
      "name": "python"
    }
  },
  "cells": [
    {
      "cell_type": "code",
      "execution_count": 80,
      "metadata": {
        "id": "mjtncImeCphQ"
      },
      "outputs": [],
      "source": [
        "import pandas as pd"
      ]
    },
    {
      "cell_type": "markdown",
      "source": [
        "IMDB (https://datasets.imdbws.com/) has data available for use, but it requires some preprocessing. For starters, the name of the movie and the rating aren't in the same dataset. So we will combine those to one pandas dataframe. We can also combine any of the IMDB datasets for further data mining, as they have a shared constant for every row (tconst)\n"
      ],
      "metadata": {
        "id": "CmsdajRio2P6"
      }
    },
    {
      "cell_type": "code",
      "source": [
        "imdb_basics = pd.read_csv('data_imdb_basics.tsv', sep='\\t')\n",
        "imdb_basics.shape"
      ],
      "metadata": {
        "colab": {
          "base_uri": "https://localhost:8080/"
        },
        "id": "XZgSPCcW75Zd",
        "outputId": "128bdac2-cd76-44d1-a944-7a0c84535f73"
      },
      "execution_count": 81,
      "outputs": [
        {
          "output_type": "stream",
          "name": "stderr",
          "text": [
            "<ipython-input-81-66eece6d45dd>:1: DtypeWarning: Columns (4) have mixed types. Specify dtype option on import or set low_memory=False.\n",
            "  imdb_basics = pd.read_csv('data_imdb_basics.tsv', sep='\\t')\n"
          ]
        },
        {
          "output_type": "execute_result",
          "data": {
            "text/plain": [
              "(9621894, 9)"
            ]
          },
          "metadata": {},
          "execution_count": 81
        }
      ]
    },
    {
      "cell_type": "code",
      "source": [
        "imdb_ratings = pd.read_csv('data_imdb_ratings.tsv', sep='\\t')\n",
        "imdb_ratings.shape"
      ],
      "metadata": {
        "colab": {
          "base_uri": "https://localhost:8080/"
        },
        "id": "aTPqX_iL76gz",
        "outputId": "135905f6-b463-4842-c717-2d46a3284084"
      },
      "execution_count": 82,
      "outputs": [
        {
          "output_type": "execute_result",
          "data": {
            "text/plain": [
              "(1280237, 3)"
            ]
          },
          "metadata": {},
          "execution_count": 82
        }
      ]
    },
    {
      "cell_type": "code",
      "source": [
        "# DEPRECATED DATASET WE ORIGINALLY WANTED TO USE\n",
        "#netflix = pd.read_csv('netflix_titles.csv')\n",
        "#netflix.shape"
      ],
      "metadata": {
        "id": "Q9HnXRLJ76Lh"
      },
      "execution_count": 83,
      "outputs": []
    },
    {
      "cell_type": "code",
      "source": [
        "# DEPRECATED DATASET\n",
        "# NETFLIX:\\n{netflix.iloc[:1]}\\n\\n\\n\n",
        "print(f\"IMDB BASICS:\\n{imdb_basics.iloc[:5]}\\n\\n\\nIMDB RATINGS:\\n{imdb_ratings.iloc[:5]}\")"
      ],
      "metadata": {
        "colab": {
          "base_uri": "https://localhost:8080/"
        },
        "id": "C-3d9ySZQb6S",
        "outputId": "8dd8c167-7cf5-46f9-8d3b-58009f3d39e2"
      },
      "execution_count": 84,
      "outputs": [
        {
          "output_type": "stream",
          "name": "stdout",
          "text": [
            "IMDB BASICS:\n",
            "      tconst titleType            primaryTitle           originalTitle  \\\n",
            "0  tt0000001     short              Carmencita              Carmencita   \n",
            "1  tt0000002     short  Le clown et ses chiens  Le clown et ses chiens   \n",
            "2  tt0000003     short          Pauvre Pierrot          Pauvre Pierrot   \n",
            "3  tt0000004     short             Un bon bock             Un bon bock   \n",
            "4  tt0000005     short        Blacksmith Scene        Blacksmith Scene   \n",
            "\n",
            "  isAdult startYear endYear runtimeMinutes                    genres  \n",
            "0       0      1894      \\N              1         Documentary,Short  \n",
            "1       0      1892      \\N              5           Animation,Short  \n",
            "2       0      1892      \\N              4  Animation,Comedy,Romance  \n",
            "3       0      1892      \\N             12           Animation,Short  \n",
            "4       0      1893      \\N              1              Comedy,Short  \n",
            "\n",
            "\n",
            "IMDB RATINGS:\n",
            "      tconst  averageRating  numVotes\n",
            "0  tt0000001            5.7      1952\n",
            "1  tt0000002            5.8       264\n",
            "2  tt0000003            6.5      1786\n",
            "3  tt0000004            5.6       179\n",
            "4  tt0000005            6.2      2586\n"
          ]
        }
      ]
    },
    {
      "cell_type": "code",
      "source": [
        "imdb_combined = pd.concat([imdb_basics, imdb_ratings], axis=1, join='inner')\n",
        "print(f\"{imdb_combined.shape}\")\n",
        "\n",
        "print(f\"\\nIMDB COMBINED:\\n{imdb_combined.iloc[:5]}\")"
      ],
      "metadata": {
        "colab": {
          "base_uri": "https://localhost:8080/"
        },
        "id": "MjbeMqsHcQ_F",
        "outputId": "6695ca7a-7086-4d38-e49a-1e06cd910b25"
      },
      "execution_count": 85,
      "outputs": [
        {
          "output_type": "stream",
          "name": "stdout",
          "text": [
            "(1280237, 12)\n",
            "\n",
            "IMDB COMBINED:\n",
            "      tconst titleType            primaryTitle           originalTitle  \\\n",
            "0  tt0000001     short              Carmencita              Carmencita   \n",
            "1  tt0000002     short  Le clown et ses chiens  Le clown et ses chiens   \n",
            "2  tt0000003     short          Pauvre Pierrot          Pauvre Pierrot   \n",
            "3  tt0000004     short             Un bon bock             Un bon bock   \n",
            "4  tt0000005     short        Blacksmith Scene        Blacksmith Scene   \n",
            "\n",
            "  isAdult startYear endYear runtimeMinutes                    genres  \\\n",
            "0       0      1894      \\N              1         Documentary,Short   \n",
            "1       0      1892      \\N              5           Animation,Short   \n",
            "2       0      1892      \\N              4  Animation,Comedy,Romance   \n",
            "3       0      1892      \\N             12           Animation,Short   \n",
            "4       0      1893      \\N              1              Comedy,Short   \n",
            "\n",
            "      tconst  averageRating  numVotes  \n",
            "0  tt0000001            5.7      1952  \n",
            "1  tt0000002            5.8       264  \n",
            "2  tt0000003            6.5      1786  \n",
            "3  tt0000004            5.6       179  \n",
            "4  tt0000005            6.2      2586  \n"
          ]
        }
      ]
    },
    {
      "cell_type": "markdown",
      "source": [
        "Data is now in two sets, Netflix information, and IMDB information. Lets create one data set that contains Netflix, and IMDB movies together."
      ],
      "metadata": {
        "id": "N09pIFG833NT"
      }
    },
    {
      "cell_type": "code",
      "source": [
        "# DEPRECATED DATASET\n",
        "#netflix_imdb_combined = pd.merge(netflix,imdb_combined, suffixes=['_netflix','_imdb'], left_on='title', right_on='originalTitle')\n",
        "#print(f\"{netflix_imdb_combined.shape}\\n\\nNETFLIX IMDB COMBINED:\\n{netflix_imdb_combined.iloc[:1]}\")"
      ],
      "metadata": {
        "id": "VoOcj3WQ8OtX"
      },
      "execution_count": 86,
      "outputs": []
    },
    {
      "cell_type": "markdown",
      "source": [
        "Now we have a combined dataframe of the shows available on netflix, and their imdb information. Lets filter out the TV shows"
      ],
      "metadata": {
        "id": "ZaokfM0E_km7"
      }
    },
    {
      "cell_type": "code",
      "source": [
        "# DEPRECATED DATASET\n",
        "#netflix_imdb_combined_no_tv = netflix_imdb_combined[(netflix_imdb_combined['type'] == 'Movie')]\n",
        "#print(f\"{netflix_imdb_combined_no_tv.shape}\\n\\nCOMBINED NO TV:\\n{netflix_imdb_combined_no_tv.iloc[:1]}\")"
      ],
      "metadata": {
        "id": "ugjwza_4aQTP"
      },
      "execution_count": 87,
      "outputs": []
    },
    {
      "cell_type": "markdown",
      "source": [
        "Lets also filter out an NaN rows"
      ],
      "metadata": {
        "id": "pU68FUlSP7H0"
      }
    },
    {
      "cell_type": "code",
      "source": [
        "\n",
        "imdb_combined = imdb_combined.dropna()"
      ],
      "metadata": {
        "id": "PpggLSa1P9cA"
      },
      "execution_count": 88,
      "outputs": []
    },
    {
      "cell_type": "markdown",
      "source": [
        " Lets start by creating our test/training data split (85/15)"
      ],
      "metadata": {
        "id": "lUj9LCzebZOH"
      }
    },
    {
      "cell_type": "code",
      "source": [
        "from sklearn.model_selection import train_test_split"
      ],
      "metadata": {
        "id": "VNzOtFRfcT7A"
      },
      "execution_count": 89,
      "outputs": []
    },
    {
      "cell_type": "code",
      "source": [
        "train, test = train_test_split(imdb_combined, test_size=0.15)\n",
        "\n",
        "print(f\"TRAINING:\\t{train.shape}\\n{train.iloc[:1]}\\n\\n\\nTESTING:\\t{test.shape}\\n{test.iloc[:1]}\")"
      ],
      "metadata": {
        "colab": {
          "base_uri": "https://localhost:8080/"
        },
        "id": "hbOfCiAUcj7x",
        "outputId": "955aadba-61c2-434a-ea77-9bfe6bbfb36c"
      },
      "execution_count": 90,
      "outputs": [
        {
          "output_type": "stream",
          "name": "stdout",
          "text": [
            "TRAINING:\t(1088200, 12)\n",
            "           tconst titleType primaryTitle originalTitle isAdult startYear  \\\n",
            "385198  tt0401901     movie   Temptation         Yuhok       0      1969   \n",
            "\n",
            "       endYear runtimeMinutes          genres     tconst  averageRating  \\\n",
            "385198      \\N             95  Drama,Thriller  tt0793028            7.6   \n",
            "\n",
            "        numVotes  \n",
            "385198        62  \n",
            "\n",
            "\n",
            "TESTING:\t(192036, 12)\n",
            "           tconst titleType  primaryTitle originalTitle isAdult startYear  \\\n",
            "212757  tt0222033     short  In der Nacht  In der Nacht       0      1931   \n",
            "\n",
            "       endYear runtimeMinutes genres     tconst  averageRating  numVotes  \n",
            "212757      \\N              7  Short  tt0380628            6.5        53  \n"
          ]
        }
      ]
    },
    {
      "cell_type": "code",
      "source": [
        "# Generate list of all genres\n",
        "genre_list = []\n",
        "\n",
        "genres = train['genres'].unique()\n",
        "for genresgroup in genres:\n",
        "  if genresgroup != genresgroup:\n",
        "    print(genresgroup)\n",
        "  genre_sep = genresgroup.split(',')\n",
        "  genre_list = genre_list + genre_sep\n",
        "\n",
        "# Find unique genres from our data.\n",
        "list_set = set(genre_list)\n",
        "unique_list_genre = (list(list_set))\n",
        "unique_list_genre.remove(\"\\\\N\")\n",
        "for genre in unique_list_genre:\n",
        "  print(genre)"
      ],
      "metadata": {
        "colab": {
          "base_uri": "https://localhost:8080/"
        },
        "id": "lUcbNJzB9TVQ",
        "outputId": "2dc2712a-2a87-48d7-af64-e4eaa95dca90"
      },
      "execution_count": 91,
      "outputs": [
        {
          "output_type": "stream",
          "name": "stdout",
          "text": [
            "Western\n",
            "Sci-Fi\n",
            "Animation\n",
            "Game-Show\n",
            "Crime\n",
            "Musical\n",
            "Film-Noir\n",
            "Adult\n",
            "Horror\n",
            "War\n",
            "History\n",
            "Thriller\n",
            "Biography\n",
            "Reality-TV\n",
            "Short\n",
            "Music\n",
            "Drama\n",
            "Family\n",
            "Action\n",
            "Romance\n",
            "Adventure\n",
            "Talk-Show\n",
            "Mystery\n",
            "News\n",
            "Fantasy\n",
            "Sport\n",
            "Comedy\n",
            "Documentary\n"
          ]
        }
      ]
    },
    {
      "cell_type": "code",
      "source": [
        "# Create dictionary for all genres\n",
        "genre_split = {}\n",
        "# Add each genre as a key, and its dictionary as the value\n",
        "for genre in unique_list_genre:\n",
        "  genre_split[genre] = train.loc[(train['genres'].str.contains(genre))]\n",
        "\n",
        "print(genre_split['Horror'].iloc[:1])"
      ],
      "metadata": {
        "colab": {
          "base_uri": "https://localhost:8080/"
        },
        "id": "JRvQg7b9tQEH",
        "outputId": "4882e72d-4b77-4d1e-98b8-4e91f0390c5c"
      },
      "execution_count": 92,
      "outputs": [
        {
          "output_type": "stream",
          "name": "stdout",
          "text": [
            "             tconst titleType         primaryTitle        originalTitle  \\\n",
            "1139847  tt10309384     short  Grammar Nazi Killer  Grammar Nazi Killer   \n",
            "\n",
            "        isAdult startYear endYear runtimeMinutes        genres     tconst  \\\n",
            "1139847       0      2019      \\N             10  Horror,Short  tt6446234   \n",
            "\n",
            "         averageRating  numVotes  \n",
            "1139847            8.2         5  \n"
          ]
        }
      ]
    },
    {
      "cell_type": "markdown",
      "source": [
        "Now all of our data is split by genre as well."
      ],
      "metadata": {
        "id": "mV-HPdPAQztp"
      }
    },
    {
      "cell_type": "code",
      "source": [
        "genre_split_avg = {}\n",
        "# for each genre\n",
        "for genre in unique_list_genre:\n",
        "  #initalize values\n",
        "  avg = 0\n",
        "  count = 0\n",
        "  #declare working genre\n",
        "  print(f\"GENRE: {genre}:\")\n",
        "  #iterate over dataframe to find the average rating, and number of movies\n",
        "  for index, row in genre_split[genre].iterrows():\n",
        "    #print(row['primaryTitle'], row['averageRating'])\n",
        "    avg = avg + row['averageRating']\n",
        "    count = count + 1\n",
        "  avg = avg/count\n",
        "  print(f\"\\nAverage: {avg}, Number: {count}\\n\\n\")\n",
        "  #split dataframe above and below average\n",
        "  genre_split_avg['B'+genre] = genre_split[genre][genre_split[genre]['averageRating'] <= avg]\n",
        "  genre_split_avg['A'+genre] = genre_split[genre][genre_split[genre]['averageRating'] > avg]"
      ],
      "metadata": {
        "id": "OA2iAcIiLZHV",
        "colab": {
          "base_uri": "https://localhost:8080/"
        },
        "outputId": "1fbbdf7d-54ed-41b4-cd0c-0a791f50c78d"
      },
      "execution_count": 95,
      "outputs": [
        {
          "output_type": "stream",
          "name": "stdout",
          "text": [
            "GENRE: Western:\n",
            "\n",
            "Average: 6.807561017238401, Number: 17577\n",
            "\n",
            "\n",
            "GENRE: Sci-Fi:\n",
            "\n",
            "Average: 6.9022174336160464, Number: 14386\n",
            "\n",
            "\n",
            "GENRE: Animation:\n",
            "\n",
            "Average: 6.918637813380806, Number: 53928\n",
            "\n",
            "\n",
            "GENRE: Game-Show:\n",
            "\n",
            "Average: 7.055489436619745, Number: 28400\n",
            "\n",
            "\n",
            "GENRE: Crime:\n",
            "\n",
            "Average: 6.923916035787982, Number: 81368\n",
            "\n",
            "\n",
            "GENRE: Musical:\n",
            "\n",
            "Average: 6.768030219273988, Number: 10854\n",
            "\n",
            "\n",
            "GENRE: Film-Noir:\n",
            "\n",
            "Average: 6.197754293262883, Number: 757\n",
            "\n",
            "\n",
            "GENRE: Adult:\n",
            "\n",
            "Average: 6.8731170610867975, Number: 37946\n",
            "\n",
            "\n",
            "GENRE: Horror:\n",
            "\n",
            "Average: 6.877791274955127, Number: 18934\n",
            "\n",
            "\n",
            "GENRE: War:\n",
            "\n",
            "Average: 6.755327996673252, Number: 9619\n",
            "\n",
            "\n",
            "GENRE: History:\n",
            "\n",
            "Average: 6.904943273905983, Number: 16042\n",
            "\n",
            "\n",
            "GENRE: Thriller:\n",
            "\n",
            "Average: 6.848720772619444, Number: 23608\n",
            "\n",
            "\n",
            "GENRE: Biography:\n",
            "\n",
            "Average: 6.861423499298138, Number: 12111\n",
            "\n",
            "\n",
            "GENRE: Reality-TV:\n",
            "\n",
            "Average: 7.071633939685979, Number: 24903\n",
            "\n",
            "\n",
            "GENRE: Short:\n",
            "\n",
            "Average: 6.92291333212695, Number: 143698\n",
            "\n",
            "\n",
            "GENRE: Music:\n",
            "\n",
            "Average: 6.961449907702556, Number: 59590\n",
            "\n",
            "\n",
            "GENRE: Drama:\n",
            "\n",
            "Average: 6.932646908163728, Number: 359204\n",
            "\n",
            "\n",
            "GENRE: Family:\n",
            "\n",
            "Average: 7.005898461711888, Number: 88735\n",
            "\n",
            "\n",
            "GENRE: Action:\n",
            "\n",
            "Average: 6.938555591783499, Number: 67474\n",
            "\n",
            "\n",
            "GENRE: Romance:\n",
            "\n",
            "Average: 6.948182154094149, Number: 89309\n",
            "\n",
            "\n",
            "GENRE: Adventure:\n",
            "\n",
            "Average: 6.952380647843156, Number: 62546\n",
            "\n",
            "\n",
            "GENRE: Talk-Show:\n",
            "\n",
            "Average: 7.076542258855572, Number: 77889\n",
            "\n",
            "\n",
            "GENRE: Mystery:\n",
            "\n",
            "Average: 6.932287987323819, Number: 30293\n",
            "\n",
            "\n",
            "GENRE: News:\n",
            "\n",
            "Average: 7.071496995558673, Number: 34449\n",
            "\n",
            "\n",
            "GENRE: Fantasy:\n",
            "\n",
            "Average: 6.970716033154395, Number: 27387\n",
            "\n",
            "\n",
            "GENRE: Sport:\n",
            "\n",
            "Average: 7.040833023428824, Number: 16134\n",
            "\n",
            "\n",
            "GENRE: Comedy:\n",
            "\n",
            "Average: 6.943761976356951, Number: 271368\n",
            "\n",
            "\n",
            "GENRE: Documentary:\n",
            "\n",
            "Average: 6.974790904090737, Number: 105454\n",
            "\n",
            "\n"
          ]
        }
      ]
    },
    {
      "cell_type": "code",
      "source": [
        "print(f\"{genre_split_avg['AAction'].iloc[:1]}\\n\\n\\n{genre_split_avg['BAction'].iloc[:1]}\")"
      ],
      "metadata": {
        "colab": {
          "base_uri": "https://localhost:8080/"
        },
        "id": "hhpuFFEwzNEs",
        "outputId": "202c8d1d-6f7c-49cf-cdc7-bd599e0533ec"
      },
      "execution_count": 96,
      "outputs": [
        {
          "output_type": "stream",
          "name": "stdout",
          "text": [
            "           tconst titleType    primaryTitle     originalTitle isAdult  \\\n",
            "159762  tt0165239     movie  Attack to Kill  Da jiang nan bei       0   \n",
            "\n",
            "       startYear endYear runtimeMinutes        genres     tconst  \\\n",
            "159762      1975      \\N             88  Action,Drama  tt0263729   \n",
            "\n",
            "        averageRating  numVotes  \n",
            "159762            8.6         6  \n",
            "\n",
            "\n",
            "           tconst titleType          primaryTitle         originalTitle  \\\n",
            "281623  tt0294181  tvSeries  Sei jûshi Bisumaruku  Sei jûshi Bisumaruku   \n",
            "\n",
            "       isAdult startYear endYear runtimeMinutes                      genres  \\\n",
            "281623       0      1984    1985             30  Action,Adventure,Animation   \n",
            "\n",
            "           tconst  averageRating  numVotes  \n",
            "281623  tt0540647            6.8         5  \n"
          ]
        }
      ]
    }
  ]
}