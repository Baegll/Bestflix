{
  "cells": [
    {
      "cell_type": "code",
      "execution_count": 1,
      "metadata": {
        "id": "mjtncImeCphQ"
      },
      "outputs": [],
      "source": [
        "import pandas as pd"
      ]
    },
    {
      "cell_type": "markdown",
      "metadata": {
        "id": "CmsdajRio2P6"
      },
      "source": [
        "IMDB (https://datasets.imdbws.com/) has data available for use, but it requires some preprocessing. For starters, the name of the movie and the rating aren't in the same dataset. So we will combine those to one pandas dataframe. We can also combine any of the IMDB datasets for further data mining, as they have a shared constant for every row (tconst)\n"
      ]
    },
    {
      "cell_type": "code",
      "execution_count": 2,
      "metadata": {
        "colab": {
          "base_uri": "https://localhost:8080/"
        },
        "id": "XZgSPCcW75Zd",
        "outputId": "128bdac2-cd76-44d1-a944-7a0c84535f73"
      },
      "outputs": [
        {
          "name": "stderr",
          "output_type": "stream",
          "text": [
            "/var/folders/4g/f807dmd92dbfwf28mr6hkx480000gp/T/ipykernel_63130/1810125136.py:1: DtypeWarning: Columns (4) have mixed types. Specify dtype option on import or set low_memory=False.\n",
            "  imdb_basics = pd.read_csv('./test-data/title.basics.tsv', sep='\\t')\n"
          ]
        },
        {
          "data": {
            "text/plain": [
              "(9786353, 9)"
            ]
          },
          "execution_count": 2,
          "metadata": {},
          "output_type": "execute_result"
        }
      ],
      "source": [
        "imdb_basics = pd.read_csv('./test-data/title.basics.tsv', sep='\\t')\n",
        "imdb_basics.shape"
      ]
    },
    {
      "cell_type": "code",
      "execution_count": 3,
      "metadata": {
        "colab": {
          "base_uri": "https://localhost:8080/"
        },
        "id": "aTPqX_iL76gz",
        "outputId": "135905f6-b463-4842-c717-2d46a3284084"
      },
      "outputs": [
        {
          "data": {
            "text/plain": [
              "(1302133, 3)"
            ]
          },
          "execution_count": 3,
          "metadata": {},
          "output_type": "execute_result"
        }
      ],
      "source": [
        "imdb_ratings = pd.read_csv('./test-data/title.ratings.tsv', sep='\\t')\n",
        "imdb_ratings.shape"
      ]
    },
    {
      "cell_type": "code",
      "execution_count": 4,
      "metadata": {
        "id": "Q9HnXRLJ76Lh"
      },
      "outputs": [],
      "source": [
        "# DEPRECATED DATASET WE ORIGINALLY WANTED TO USE\n",
        "#netflix = pd.read_csv('netflix_titles.csv')\n",
        "#netflix.shape"
      ]
    },
    {
      "cell_type": "code",
      "execution_count": 5,
      "metadata": {
        "colab": {
          "base_uri": "https://localhost:8080/"
        },
        "id": "C-3d9ySZQb6S",
        "outputId": "8dd8c167-7cf5-46f9-8d3b-58009f3d39e2"
      },
      "outputs": [
        {
          "name": "stdout",
          "output_type": "stream",
          "text": [
            "IMDB BASICS:\n",
            "      tconst titleType            primaryTitle           originalTitle   \n",
            "0  tt0000001     short              Carmencita              Carmencita  \\\n",
            "1  tt0000002     short  Le clown et ses chiens  Le clown et ses chiens   \n",
            "2  tt0000003     short          Pauvre Pierrot          Pauvre Pierrot   \n",
            "3  tt0000004     short             Un bon bock             Un bon bock   \n",
            "4  tt0000005     short        Blacksmith Scene        Blacksmith Scene   \n",
            "\n",
            "  isAdult startYear endYear runtimeMinutes                    genres  \n",
            "0       0      1894      \\N              1         Documentary,Short  \n",
            "1       0      1892      \\N              5           Animation,Short  \n",
            "2       0      1892      \\N              4  Animation,Comedy,Romance  \n",
            "3       0      1892      \\N             12           Animation,Short  \n",
            "4       0      1893      \\N              1              Comedy,Short  \n",
            "\n",
            "\n",
            "IMDB RATINGS:\n",
            "      tconst  averageRating  numVotes\n",
            "0  tt0000001            5.7      1965\n",
            "1  tt0000002            5.8       263\n",
            "2  tt0000003            6.5      1808\n",
            "3  tt0000004            5.6       178\n",
            "4  tt0000005            6.2      2605\n"
          ]
        }
      ],
      "source": [
        "# DEPRECATED DATASET\n",
        "# NETFLIX:\\n{netflix.iloc[:1]}\\n\\n\\n\n",
        "print(f\"IMDB BASICS:\\n{imdb_basics.iloc[:5]}\\n\\n\\nIMDB RATINGS:\\n{imdb_ratings.iloc[:5]}\")"
      ]
    },
    {
      "cell_type": "code",
      "execution_count": 6,
      "metadata": {
        "colab": {
          "base_uri": "https://localhost:8080/"
        },
        "id": "MjbeMqsHcQ_F",
        "outputId": "6695ca7a-7086-4d38-e49a-1e06cd910b25"
      },
      "outputs": [
        {
          "name": "stdout",
          "output_type": "stream",
          "text": [
            "(1302133, 12)\n",
            "\n",
            "IMDB COMBINED:\n",
            "      tconst titleType            primaryTitle           originalTitle   \n",
            "0  tt0000001     short              Carmencita              Carmencita  \\\n",
            "1  tt0000002     short  Le clown et ses chiens  Le clown et ses chiens   \n",
            "2  tt0000003     short          Pauvre Pierrot          Pauvre Pierrot   \n",
            "3  tt0000004     short             Un bon bock             Un bon bock   \n",
            "4  tt0000005     short        Blacksmith Scene        Blacksmith Scene   \n",
            "\n",
            "  isAdult startYear endYear runtimeMinutes                    genres   \n",
            "0       0      1894      \\N              1         Documentary,Short  \\\n",
            "1       0      1892      \\N              5           Animation,Short   \n",
            "2       0      1892      \\N              4  Animation,Comedy,Romance   \n",
            "3       0      1892      \\N             12           Animation,Short   \n",
            "4       0      1893      \\N              1              Comedy,Short   \n",
            "\n",
            "      tconst  averageRating  numVotes  \n",
            "0  tt0000001            5.7      1965  \n",
            "1  tt0000002            5.8       263  \n",
            "2  tt0000003            6.5      1808  \n",
            "3  tt0000004            5.6       178  \n",
            "4  tt0000005            6.2      2605  \n"
          ]
        }
      ],
      "source": [
        "imdb_combined = pd.concat([imdb_basics, imdb_ratings], axis=1, join='inner')\n",
        "print(f\"{imdb_combined.shape}\")\n",
        "\n",
        "print(f\"\\nIMDB COMBINED:\\n{imdb_combined.iloc[:5]}\")"
      ]
    },
    {
      "cell_type": "markdown",
      "metadata": {
        "id": "N09pIFG833NT"
      },
      "source": [
        "Data is now in two sets, Netflix information, and IMDB information. Lets create one data set that contains Netflix, and IMDB movies together."
      ]
    },
    {
      "cell_type": "code",
      "execution_count": 86,
      "metadata": {
        "id": "VoOcj3WQ8OtX"
      },
      "outputs": [],
      "source": [
        "# DEPRECATED DATASET\n",
        "#netflix_imdb_combined = pd.merge(netflix,imdb_combined, suffixes=['_netflix','_imdb'], left_on='title', right_on='originalTitle')\n",
        "#print(f\"{netflix_imdb_combined.shape}\\n\\nNETFLIX IMDB COMBINED:\\n{netflix_imdb_combined.iloc[:1]}\")"
      ]
    },
    {
      "cell_type": "markdown",
      "metadata": {
        "id": "ZaokfM0E_km7"
      },
      "source": [
        "Now we have a combined dataframe of the shows available on netflix, and their imdb information. Lets filter out the TV shows"
      ]
    },
    {
      "cell_type": "code",
      "execution_count": 87,
      "metadata": {
        "id": "ugjwza_4aQTP"
      },
      "outputs": [],
      "source": [
        "# DEPRECATED DATASET\n",
        "#netflix_imdb_combined_no_tv = netflix_imdb_combined[(netflix_imdb_combined['type'] == 'Movie')]\n",
        "#print(f\"{netflix_imdb_combined_no_tv.shape}\\n\\nCOMBINED NO TV:\\n{netflix_imdb_combined_no_tv.iloc[:1]}\")"
      ]
    },
    {
      "cell_type": "markdown",
      "metadata": {
        "id": "pU68FUlSP7H0"
      },
      "source": [
        "Lets also filter out an NaN rows"
      ]
    },
    {
      "cell_type": "code",
      "execution_count": 7,
      "metadata": {
        "id": "PpggLSa1P9cA"
      },
      "outputs": [],
      "source": [
        "\n",
        "imdb_combined = imdb_combined.dropna()"
      ]
    },
    {
      "cell_type": "markdown",
      "metadata": {
        "id": "lUj9LCzebZOH"
      },
      "source": [
        " Lets start by creating our test/training data split (85/15)"
      ]
    },
    {
      "cell_type": "code",
      "execution_count": 8,
      "metadata": {
        "id": "VNzOtFRfcT7A"
      },
      "outputs": [],
      "source": [
        "from sklearn.model_selection import train_test_split"
      ]
    },
    {
      "cell_type": "code",
      "execution_count": 9,
      "metadata": {
        "colab": {
          "base_uri": "https://localhost:8080/"
        },
        "id": "hbOfCiAUcj7x",
        "outputId": "955aadba-61c2-434a-ea77-9bfe6bbfb36c"
      },
      "outputs": [
        {
          "name": "stdout",
          "output_type": "stream",
          "text": [
            "TRAINING:\t(1106810, 12)\n",
            "             tconst  titleType    primaryTitle   originalTitle isAdult   \n",
            "1124461  tt10282106  tvEpisode  Episode #1.722  Episode #1.722       0  \\\n",
            "\n",
            "        startYear endYear runtimeMinutes               genres     tconst   \n",
            "1124461      2003      \\N             \\N  Comedy,Drama,Family  tt5866648  \\\n",
            "\n",
            "         averageRating  numVotes  \n",
            "1124461            6.2         8  \n",
            "\n",
            "\n",
            "TESTING:\t(195320, 12)\n",
            "           tconst  titleType                   primaryTitle   \n",
            "633557  tt0655757  tvEpisode  Episode dated 12 January 2002  \\\n",
            "\n",
            "                        originalTitle isAdult startYear endYear   \n",
            "633557  Episode dated 12 January 2002       0      2002      \\N  \\\n",
            "\n",
            "       runtimeMinutes genres      tconst  averageRating  numVotes  \n",
            "633557             \\N  Music  tt13689534            7.8        53  \n"
          ]
        }
      ],
      "source": [
        "train, test = train_test_split(imdb_combined, test_size=0.15)\n",
        "\n",
        "print(f\"TRAINING:\\t{train.shape}\\n{train.iloc[:1]}\\n\\n\\nTESTING:\\t{test.shape}\\n{test.iloc[:1]}\")"
      ]
    },
    {
      "cell_type": "code",
      "execution_count": 11,
      "metadata": {
        "colab": {
          "base_uri": "https://localhost:8080/"
        },
        "id": "lUcbNJzB9TVQ",
        "outputId": "2dc2712a-2a87-48d7-af64-e4eaa95dca90"
      },
      "outputs": [
        {
          "name": "stdout",
          "output_type": "stream",
          "text": [
            "Musical\n",
            "Adult\n",
            "Horror\n",
            "Western\n",
            "Adventure\n",
            "Crime\n",
            "Mystery\n",
            "War\n",
            "Action\n",
            "Talk-Show\n",
            "Animation\n",
            "Family\n",
            "Music\n",
            "Short\n",
            "History\n",
            "Thriller\n",
            "Film-Noir\n",
            "Sport\n",
            "Comedy\n",
            "Biography\n",
            "Romance\n",
            "Sci-Fi\n",
            "Game-Show\n",
            "Reality-TV\n",
            "News\n",
            "Documentary\n",
            "Drama\n",
            "Fantasy\n"
          ]
        }
      ],
      "source": [
        "# Generate list of all genres\n",
        "genre_list = []\n",
        "\n",
        "genres = train['genres'].unique()\n",
        "for genresgroup in genres:\n",
        "  if genresgroup != genresgroup:\n",
        "    print(genresgroup)\n",
        "  genre_sep = genresgroup.split(',')\n",
        "  genre_list = genre_list + genre_sep\n",
        "\n",
        "# Find unique genres from our data.\n",
        "list_set = set(genre_list)\n",
        "unique_list_genre = (list(list_set))\n",
        "unique_list_genre.remove(\"\\\\N\")\n",
        "for genre in unique_list_genre:\n",
        "  print(genre)"
      ]
    },
    {
      "cell_type": "code",
      "execution_count": 14,
      "metadata": {
        "colab": {
          "base_uri": "https://localhost:8080/"
        },
        "id": "JRvQg7b9tQEH",
        "outputId": "4882e72d-4b77-4d1e-98b8-4e91f0390c5c"
      },
      "outputs": [
        {
          "data": {
            "text/html": [
              "<div>\n",
              "<style scoped>\n",
              "    .dataframe tbody tr th:only-of-type {\n",
              "        vertical-align: middle;\n",
              "    }\n",
              "\n",
              "    .dataframe tbody tr th {\n",
              "        vertical-align: top;\n",
              "    }\n",
              "\n",
              "    .dataframe thead th {\n",
              "        text-align: right;\n",
              "    }\n",
              "</style>\n",
              "<table border=\"1\" class=\"dataframe\">\n",
              "  <thead>\n",
              "    <tr style=\"text-align: right;\">\n",
              "      <th></th>\n",
              "      <th>tconst</th>\n",
              "      <th>titleType</th>\n",
              "      <th>primaryTitle</th>\n",
              "      <th>originalTitle</th>\n",
              "      <th>isAdult</th>\n",
              "      <th>startYear</th>\n",
              "      <th>endYear</th>\n",
              "      <th>runtimeMinutes</th>\n",
              "      <th>genres</th>\n",
              "      <th>tconst</th>\n",
              "      <th>averageRating</th>\n",
              "      <th>numVotes</th>\n",
              "    </tr>\n",
              "  </thead>\n",
              "  <tbody>\n",
              "    <tr>\n",
              "      <th>61225</th>\n",
              "      <td>tt0062446</td>\n",
              "      <td>movie</td>\n",
              "      <td>The Rape of the Vampire</td>\n",
              "      <td>Le viol du vampire</td>\n",
              "      <td>0</td>\n",
              "      <td>1968</td>\n",
              "      <td>\\N</td>\n",
              "      <td>95</td>\n",
              "      <td>Horror</td>\n",
              "      <td>tt0086100</td>\n",
              "      <td>7.7</td>\n",
              "      <td>25</td>\n",
              "    </tr>\n",
              "    <tr>\n",
              "      <th>834762</th>\n",
              "      <td>tt0861988</td>\n",
              "      <td>tvEpisode</td>\n",
              "      <td>Episode #1.354</td>\n",
              "      <td>Episode #1.354</td>\n",
              "      <td>0</td>\n",
              "      <td>1967</td>\n",
              "      <td>\\N</td>\n",
              "      <td>23</td>\n",
              "      <td>Drama,Fantasy,Horror</td>\n",
              "      <td>tt2088583</td>\n",
              "      <td>8.2</td>\n",
              "      <td>6</td>\n",
              "    </tr>\n",
              "    <tr>\n",
              "      <th>797628</th>\n",
              "      <td>tt0823500</td>\n",
              "      <td>short</td>\n",
              "      <td>My Tumour &amp; I</td>\n",
              "      <td>My Tumour &amp; I</td>\n",
              "      <td>0</td>\n",
              "      <td>2005</td>\n",
              "      <td>\\N</td>\n",
              "      <td>20</td>\n",
              "      <td>Horror,Short</td>\n",
              "      <td>tt1884299</td>\n",
              "      <td>8.1</td>\n",
              "      <td>9</td>\n",
              "    </tr>\n",
              "    <tr>\n",
              "      <th>1173680</th>\n",
              "      <td>tt10371140</td>\n",
              "      <td>tvEpisode</td>\n",
              "      <td>Mércores de fariñada</td>\n",
              "      <td>Mércores de fariñada</td>\n",
              "      <td>0</td>\n",
              "      <td>2020</td>\n",
              "      <td>\\N</td>\n",
              "      <td>\\N</td>\n",
              "      <td>Crime,Horror,Mystery</td>\n",
              "      <td>tt6741930</td>\n",
              "      <td>9.5</td>\n",
              "      <td>10244</td>\n",
              "    </tr>\n",
              "    <tr>\n",
              "      <th>679262</th>\n",
              "      <td>tt0702191</td>\n",
              "      <td>tvEpisode</td>\n",
              "      <td>Episode #4.5</td>\n",
              "      <td>Episode #4.5</td>\n",
              "      <td>0</td>\n",
              "      <td>2001</td>\n",
              "      <td>\\N</td>\n",
              "      <td>\\N</td>\n",
              "      <td>Drama,Horror,Mystery</td>\n",
              "      <td>tt14707412</td>\n",
              "      <td>5.5</td>\n",
              "      <td>22</td>\n",
              "    </tr>\n",
              "  </tbody>\n",
              "</table>\n",
              "</div>"
            ],
            "text/plain": [
              "             tconst  titleType             primaryTitle         originalTitle   \n",
              "61225     tt0062446      movie  The Rape of the Vampire    Le viol du vampire  \\\n",
              "834762    tt0861988  tvEpisode           Episode #1.354        Episode #1.354   \n",
              "797628    tt0823500      short            My Tumour & I         My Tumour & I   \n",
              "1173680  tt10371140  tvEpisode     Mércores de fariñada  Mércores de fariñada   \n",
              "679262    tt0702191  tvEpisode             Episode #4.5          Episode #4.5   \n",
              "\n",
              "        isAdult startYear endYear runtimeMinutes                genres   \n",
              "61225         0      1968      \\N             95                Horror  \\\n",
              "834762        0      1967      \\N             23  Drama,Fantasy,Horror   \n",
              "797628        0      2005      \\N             20          Horror,Short   \n",
              "1173680       0      2020      \\N             \\N  Crime,Horror,Mystery   \n",
              "679262        0      2001      \\N             \\N  Drama,Horror,Mystery   \n",
              "\n",
              "             tconst  averageRating  numVotes  \n",
              "61225     tt0086100            7.7        25  \n",
              "834762    tt2088583            8.2         6  \n",
              "797628    tt1884299            8.1         9  \n",
              "1173680   tt6741930            9.5     10244  \n",
              "679262   tt14707412            5.5        22  "
            ]
          },
          "execution_count": 14,
          "metadata": {},
          "output_type": "execute_result"
        }
      ],
      "source": [
        "# Create dictionary for all genres\n",
        "genre_split = {}\n",
        "# Add each genre as a key, and its dictionary as the value\n",
        "for genre in unique_list_genre:\n",
        "  genre_split[genre] = train.loc[(train['genres'].str.contains(genre))]\n",
        "\n",
        "genre_split['Horror'].head()"
      ]
    },
    {
      "cell_type": "markdown",
      "metadata": {
        "id": "mV-HPdPAQztp"
      },
      "source": [
        "Now all of our data is split by genre as well."
      ]
    },
    {
      "cell_type": "code",
      "execution_count": 23,
      "metadata": {
        "colab": {
          "base_uri": "https://localhost:8080/"
        },
        "id": "OA2iAcIiLZHV",
        "outputId": "1fbbdf7d-54ed-41b4-cd0c-0a791f50c78d"
      },
      "outputs": [
        {
          "name": "stdout",
          "output_type": "stream",
          "text": [
            "GENRE: Musical:\n",
            "\n",
            "Average: 6.759743099207445, Number: 10977\n",
            "\n",
            "\n",
            "GENRE: Adult:\n",
            "\n",
            "Average: 6.880579460700019, Number: 38346\n",
            "\n",
            "\n",
            "GENRE: Horror:\n",
            "\n",
            "Average: 6.877658637658623, Number: 19305\n",
            "\n",
            "\n",
            "GENRE: Western:\n",
            "\n",
            "Average: 6.774837569816526, Number: 17546\n",
            "\n",
            "\n",
            "GENRE: Adventure:\n",
            "\n",
            "Average: 6.941617168938354, Number: 63976\n",
            "\n",
            "\n",
            "GENRE: Crime:\n",
            "\n",
            "Average: 6.936362195701784, Number: 82033\n",
            "\n",
            "\n",
            "GENRE: Mystery:\n",
            "\n",
            "Average: 6.92305374350145, Number: 30199\n",
            "\n",
            "\n",
            "GENRE: War:\n",
            "\n",
            "Average: 6.784001220504465, Number: 9832\n",
            "\n",
            "\n",
            "GENRE: Action:\n",
            "\n",
            "Average: 6.957743654302119, Number: 68314\n",
            "\n",
            "\n",
            "GENRE: Talk-Show:\n",
            "\n",
            "Average: 7.053274607430112, Number: 80941\n",
            "\n",
            "\n",
            "GENRE: Animation:\n",
            "\n",
            "Average: 6.928214331495986, Number: 54607\n",
            "\n",
            "\n",
            "GENRE: Family:\n",
            "\n",
            "Average: 7.019810944391495, Number: 90238\n",
            "\n",
            "\n",
            "GENRE: Music:\n",
            "\n",
            "Average: 6.963460965188307, Number: 60382\n",
            "\n",
            "\n",
            "GENRE: Short:\n",
            "\n",
            "Average: 6.921279570262586, Number: 145205\n",
            "\n",
            "\n",
            "GENRE: History:\n",
            "\n",
            "Average: 6.913391485963519, Number: 16279\n",
            "\n",
            "\n",
            "GENRE: Thriller:\n",
            "\n",
            "Average: 6.855765357502525, Number: 23832\n",
            "\n",
            "\n",
            "GENRE: Film-Noir:\n",
            "\n",
            "Average: 6.204705882352942, Number: 765\n",
            "\n",
            "\n",
            "GENRE: Sport:\n",
            "\n",
            "Average: 7.003911412752299, Number: 16797\n",
            "\n",
            "\n",
            "GENRE: Comedy:\n",
            "\n",
            "Average: 6.944865046273388, Number: 274131\n",
            "\n",
            "\n",
            "GENRE: Biography:\n",
            "\n",
            "Average: 6.910179885527426, Number: 12230\n",
            "\n",
            "\n",
            "GENRE: Romance:\n",
            "\n",
            "Average: 6.948116609129242, Number: 91245\n",
            "\n",
            "\n",
            "GENRE: Sci-Fi:\n",
            "\n",
            "Average: 6.894396765728075, Number: 14099\n",
            "\n",
            "\n",
            "GENRE: Game-Show:\n",
            "\n",
            "Average: 7.054846839172238, Number: 28173\n",
            "\n",
            "\n",
            "GENRE: Reality-TV:\n",
            "\n",
            "Average: 7.084820859872688, Number: 25120\n",
            "\n",
            "\n",
            "GENRE: News:\n",
            "\n",
            "Average: 7.068531193895849, Number: 35648\n",
            "\n",
            "\n",
            "GENRE: Documentary:\n",
            "\n",
            "Average: 6.973828501849752, Number: 106765\n",
            "\n",
            "\n",
            "GENRE: Drama:\n",
            "\n",
            "Average: 6.937839693720574, Number: 366985\n",
            "\n",
            "\n",
            "GENRE: Fantasy:\n",
            "\n",
            "Average: 6.96479028697573, Number: 28086\n",
            "\n",
            "\n"
          ]
        }
      ],
      "source": [
        "genre_split_avg = {}\n",
        "# for each genre\n",
        "for genre in unique_list_genre:\n",
        "  #initalize values\n",
        "  avg = 0\n",
        "  count = 0\n",
        "  #declare working genre\n",
        "  print(f\"GENRE: {genre}:\")\n",
        "  #iterate over dataframe to find the average rating, and number of movies\n",
        "  for index, row in genre_split[genre].iterrows():\n",
        "    #print(row['primaryTitle'], row['averageRating'])\n",
        "    avg = avg + row['averageRating']\n",
        "    count = count + 1\n",
        "  avg = avg/count\n",
        "  print(f\"\\nAverage: {avg}, Number: {count}\\n\\n\")\n",
        "  #split dataframe above and below average\n",
        "  genre_split_avg['B'+genre] = genre_split[genre][genre_split[genre]['averageRating'] <= avg]\n",
        "  genre_split_avg['A'+genre] = genre_split[genre][genre_split[genre]['averageRating'] > avg]"
      ]
    },
    {
      "cell_type": "code",
      "execution_count": 29,
      "metadata": {
        "colab": {
          "base_uri": "https://localhost:8080/"
        },
        "id": "hhpuFFEwzNEs",
        "outputId": "202c8d1d-6f7c-49cf-cdc7-bd599e0533ec"
      },
      "outputs": [
        {
          "data": {
            "text/html": [
              "<div>\n",
              "<style scoped>\n",
              "    .dataframe tbody tr th:only-of-type {\n",
              "        vertical-align: middle;\n",
              "    }\n",
              "\n",
              "    .dataframe tbody tr th {\n",
              "        vertical-align: top;\n",
              "    }\n",
              "\n",
              "    .dataframe thead th {\n",
              "        text-align: right;\n",
              "    }\n",
              "</style>\n",
              "<table border=\"1\" class=\"dataframe\">\n",
              "  <thead>\n",
              "    <tr style=\"text-align: right;\">\n",
              "      <th></th>\n",
              "      <th>tconst</th>\n",
              "      <th>titleType</th>\n",
              "      <th>primaryTitle</th>\n",
              "      <th>originalTitle</th>\n",
              "      <th>isAdult</th>\n",
              "      <th>startYear</th>\n",
              "      <th>endYear</th>\n",
              "      <th>runtimeMinutes</th>\n",
              "      <th>genres</th>\n",
              "      <th>tconst</th>\n",
              "      <th>averageRating</th>\n",
              "      <th>numVotes</th>\n",
              "    </tr>\n",
              "  </thead>\n",
              "  <tbody>\n",
              "    <tr>\n",
              "      <th>290571</th>\n",
              "      <td>tt0303630</td>\n",
              "      <td>video</td>\n",
              "      <td>Amateur Hours 5</td>\n",
              "      <td>Amateur Hours 5</td>\n",
              "      <td>1</td>\n",
              "      <td>1989</td>\n",
              "      <td>\\N</td>\n",
              "      <td>120</td>\n",
              "      <td>Adult</td>\n",
              "      <td>tt0560663</td>\n",
              "      <td>7.2</td>\n",
              "      <td>19</td>\n",
              "    </tr>\n",
              "    <tr>\n",
              "      <th>1224644</th>\n",
              "      <td>tt10463200</td>\n",
              "      <td>tvEpisode</td>\n",
              "      <td>Classic</td>\n",
              "      <td>Classic</td>\n",
              "      <td>1</td>\n",
              "      <td>2019</td>\n",
              "      <td>\\N</td>\n",
              "      <td>\\N</td>\n",
              "      <td>Adult</td>\n",
              "      <td>tt7854360</td>\n",
              "      <td>8.0</td>\n",
              "      <td>5</td>\n",
              "    </tr>\n",
              "    <tr>\n",
              "      <th>449913</th>\n",
              "      <td>tt0468379</td>\n",
              "      <td>video</td>\n",
              "      <td>Pussyman's Blow Bang 1</td>\n",
              "      <td>Pussyman's Blow Bang 1</td>\n",
              "      <td>1</td>\n",
              "      <td>2005</td>\n",
              "      <td>\\N</td>\n",
              "      <td>68</td>\n",
              "      <td>Adult</td>\n",
              "      <td>tt10059680</td>\n",
              "      <td>8.7</td>\n",
              "      <td>113</td>\n",
              "    </tr>\n",
              "    <tr>\n",
              "      <th>417420</th>\n",
              "      <td>tt0434989</td>\n",
              "      <td>video</td>\n",
              "      <td>Hairy Assed Daddies</td>\n",
              "      <td>Hairy Assed Daddies</td>\n",
              "      <td>1</td>\n",
              "      <td>2002</td>\n",
              "      <td>\\N</td>\n",
              "      <td>82</td>\n",
              "      <td>Adult</td>\n",
              "      <td>tt0885522</td>\n",
              "      <td>7.6</td>\n",
              "      <td>474</td>\n",
              "    </tr>\n",
              "    <tr>\n",
              "      <th>134134</th>\n",
              "      <td>tt0138095</td>\n",
              "      <td>movie</td>\n",
              "      <td>Sexdance Fever</td>\n",
              "      <td>Sexdance Fever</td>\n",
              "      <td>1</td>\n",
              "      <td>1984</td>\n",
              "      <td>\\N</td>\n",
              "      <td>\\N</td>\n",
              "      <td>Adult</td>\n",
              "      <td>tt0206920</td>\n",
              "      <td>7.0</td>\n",
              "      <td>13</td>\n",
              "    </tr>\n",
              "  </tbody>\n",
              "</table>\n",
              "</div>"
            ],
            "text/plain": [
              "             tconst  titleType            primaryTitle   \n",
              "290571    tt0303630      video         Amateur Hours 5  \\\n",
              "1224644  tt10463200  tvEpisode                 Classic   \n",
              "449913    tt0468379      video  Pussyman's Blow Bang 1   \n",
              "417420    tt0434989      video     Hairy Assed Daddies   \n",
              "134134    tt0138095      movie          Sexdance Fever   \n",
              "\n",
              "                  originalTitle isAdult startYear endYear runtimeMinutes   \n",
              "290571          Amateur Hours 5       1      1989      \\N            120  \\\n",
              "1224644                 Classic       1      2019      \\N             \\N   \n",
              "449913   Pussyman's Blow Bang 1       1      2005      \\N             68   \n",
              "417420      Hairy Assed Daddies       1      2002      \\N             82   \n",
              "134134           Sexdance Fever       1      1984      \\N             \\N   \n",
              "\n",
              "        genres      tconst  averageRating  numVotes  \n",
              "290571   Adult   tt0560663            7.2        19  \n",
              "1224644  Adult   tt7854360            8.0         5  \n",
              "449913   Adult  tt10059680            8.7       113  \n",
              "417420   Adult   tt0885522            7.6       474  \n",
              "134134   Adult   tt0206920            7.0        13  "
            ]
          },
          "execution_count": 29,
          "metadata": {},
          "output_type": "execute_result"
        }
      ],
      "source": [
        "genre_split_avg['AAdult'].head()\n"
      ]
    }
  ],
  "metadata": {
    "colab": {
      "provenance": []
    },
    "kernelspec": {
      "display_name": "Python 3",
      "name": "python3"
    },
    "language_info": {
      "codemirror_mode": {
        "name": "ipython",
        "version": 3
      },
      "file_extension": ".py",
      "mimetype": "text/x-python",
      "name": "python",
      "nbconvert_exporter": "python",
      "pygments_lexer": "ipython3",
      "version": "3.9.6"
    }
  },
  "nbformat": 4,
  "nbformat_minor": 0
}
