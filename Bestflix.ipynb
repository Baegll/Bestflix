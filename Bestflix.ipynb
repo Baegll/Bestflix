{
  "nbformat": 4,
  "nbformat_minor": 0,
  "metadata": {
    "colab": {
      "provenance": []
    },
    "kernelspec": {
      "name": "python3",
      "display_name": "Python 3"
    },
    "language_info": {
      "name": "python"
    }
  },
  "cells": [
    {
      "cell_type": "code",
      "execution_count": 73,
      "metadata": {
        "id": "mjtncImeCphQ"
      },
      "outputs": [],
      "source": [
        "import pandas as pd"
      ]
    },
    {
      "cell_type": "markdown",
      "source": [
        "IMDB (https://datasets.imdbws.com/) has data available for use, but it requires some preprocessing. For starters, the name of the movie and the rating aren't in the same dataset. So we will combine those to one pandas dataframe."
      ],
      "metadata": {
        "id": "CmsdajRio2P6"
      }
    },
    {
      "cell_type": "code",
      "source": [
        "imdb_basics = pd.read_csv('data_imdb_basics.tsv', sep='\\t')\n",
        "imdb_basics.shape"
      ],
      "metadata": {
        "colab": {
          "base_uri": "https://localhost:8080/"
        },
        "id": "XZgSPCcW75Zd",
        "outputId": "378455d3-db82-4e4a-ec20-107e009376af"
      },
      "execution_count": 74,
      "outputs": [
        {
          "output_type": "stream",
          "name": "stderr",
          "text": [
            "/usr/local/lib/python3.8/dist-packages/IPython/core/interactiveshell.py:3326: DtypeWarning: Columns (4) have mixed types.Specify dtype option on import or set low_memory=False.\n",
            "  exec(code_obj, self.user_global_ns, self.user_ns)\n"
          ]
        },
        {
          "output_type": "execute_result",
          "data": {
            "text/plain": [
              "(4805392, 9)"
            ]
          },
          "metadata": {},
          "execution_count": 74
        }
      ]
    },
    {
      "cell_type": "code",
      "source": [
        "imdb_ratings = pd.read_csv('data_imdb_ratings.tsv', sep='\\t')\n",
        "imdb_ratings.shape"
      ],
      "metadata": {
        "colab": {
          "base_uri": "https://localhost:8080/"
        },
        "id": "aTPqX_iL76gz",
        "outputId": "cf28bc48-dc44-423c-c73c-b6679ca07071"
      },
      "execution_count": 75,
      "outputs": [
        {
          "output_type": "execute_result",
          "data": {
            "text/plain": [
              "(1280237, 3)"
            ]
          },
          "metadata": {},
          "execution_count": 75
        }
      ]
    },
    {
      "cell_type": "code",
      "source": [
        "netflix = pd.read_csv('netflix_titles.csv')\n",
        "netflix.shape"
      ],
      "metadata": {
        "colab": {
          "base_uri": "https://localhost:8080/"
        },
        "id": "Q9HnXRLJ76Lh",
        "outputId": "8b835f05-a015-45e5-87a6-6ed9252edb19"
      },
      "execution_count": 76,
      "outputs": [
        {
          "output_type": "execute_result",
          "data": {
            "text/plain": [
              "(8807, 12)"
            ]
          },
          "metadata": {},
          "execution_count": 76
        }
      ]
    },
    {
      "cell_type": "code",
      "source": [
        "print(f\"NETFLIX:\\n{netflix.iloc[:1]}\\n\\n\\nIMDB BASICS:\\n{imdb_basics.iloc[:5]}\\n\\n\\nIMDB RATINGS:\\n{imdb_ratings.iloc[:5]}\")"
      ],
      "metadata": {
        "colab": {
          "base_uri": "https://localhost:8080/"
        },
        "id": "C-3d9ySZQb6S",
        "outputId": "78dddd1b-3bf5-4a2b-d9b6-45d6f2ccf84a"
      },
      "execution_count": 77,
      "outputs": [
        {
          "output_type": "stream",
          "name": "stdout",
          "text": [
            "NETFLIX:\n",
            "  show_id   type                 title         director cast        country  \\\n",
            "0      s1  Movie  Dick Johnson Is Dead  Kirsten Johnson  NaN  United States   \n",
            "\n",
            "           date_added  release_year rating duration      listed_in  \\\n",
            "0  September 25, 2021          2020  PG-13   90 min  Documentaries   \n",
            "\n",
            "                                         description  \n",
            "0  As her father nears the end of his life, filmm...  \n",
            "\n",
            "\n",
            "IMDB BASICS:\n",
            "      tconst titleType            primaryTitle           originalTitle  \\\n",
            "0  tt0000001     short              Carmencita              Carmencita   \n",
            "1  tt0000002     short  Le clown et ses chiens  Le clown et ses chiens   \n",
            "2  tt0000003     short          Pauvre Pierrot          Pauvre Pierrot   \n",
            "3  tt0000004     short             Un bon bock             Un bon bock   \n",
            "4  tt0000005     short        Blacksmith Scene        Blacksmith Scene   \n",
            "\n",
            "  isAdult startYear endYear runtimeMinutes                    genres  \n",
            "0       0      1894      \\N              1         Documentary,Short  \n",
            "1       0      1892      \\N              5           Animation,Short  \n",
            "2       0      1892      \\N              4  Animation,Comedy,Romance  \n",
            "3       0      1892      \\N             12           Animation,Short  \n",
            "4       0      1893      \\N              1              Comedy,Short  \n",
            "\n",
            "\n",
            "IMDB RATINGS:\n",
            "      tconst  averageRating  numVotes\n",
            "0  tt0000001            5.7      1952\n",
            "1  tt0000002            5.8       264\n",
            "2  tt0000003            6.5      1786\n",
            "3  tt0000004            5.6       179\n",
            "4  tt0000005            6.2      2586\n"
          ]
        }
      ]
    },
    {
      "cell_type": "code",
      "source": [
        "imdb_combined = pd.concat([imdb_basics, imdb_ratings], axis=1, join='inner')\n",
        "print(f\"{imdb_combined.shape}\")\n",
        "\n",
        "print(f\"\\nIMDB COMBINED:\\n{imdb_combined.iloc[:5]}\")"
      ],
      "metadata": {
        "colab": {
          "base_uri": "https://localhost:8080/"
        },
        "id": "MjbeMqsHcQ_F",
        "outputId": "ca20bbf2-97df-4eaa-8c48-ddb6f3c7c3e6"
      },
      "execution_count": 78,
      "outputs": [
        {
          "output_type": "stream",
          "name": "stdout",
          "text": [
            "(1280237, 12)\n",
            "\n",
            "IMDB COMBINED:\n",
            "      tconst titleType            primaryTitle           originalTitle  \\\n",
            "0  tt0000001     short              Carmencita              Carmencita   \n",
            "1  tt0000002     short  Le clown et ses chiens  Le clown et ses chiens   \n",
            "2  tt0000003     short          Pauvre Pierrot          Pauvre Pierrot   \n",
            "3  tt0000004     short             Un bon bock             Un bon bock   \n",
            "4  tt0000005     short        Blacksmith Scene        Blacksmith Scene   \n",
            "\n",
            "  isAdult startYear endYear runtimeMinutes                    genres  \\\n",
            "0       0      1894      \\N              1         Documentary,Short   \n",
            "1       0      1892      \\N              5           Animation,Short   \n",
            "2       0      1892      \\N              4  Animation,Comedy,Romance   \n",
            "3       0      1892      \\N             12           Animation,Short   \n",
            "4       0      1893      \\N              1              Comedy,Short   \n",
            "\n",
            "      tconst  averageRating  numVotes  \n",
            "0  tt0000001            5.7      1952  \n",
            "1  tt0000002            5.8       264  \n",
            "2  tt0000003            6.5      1786  \n",
            "3  tt0000004            5.6       179  \n",
            "4  tt0000005            6.2      2586  \n"
          ]
        }
      ]
    },
    {
      "cell_type": "markdown",
      "source": [
        "Data is now in two sets, Netflix information, and IMDB information. Lets create one data set that contains Netflix, and IMDB movies together."
      ],
      "metadata": {
        "id": "N09pIFG833NT"
      }
    },
    {
      "cell_type": "code",
      "source": [
        "netflix_imdb_combined = pd.merge(netflix,imdb_combined, suffixes=['_netflix','_imdb'], left_on='title', right_on='originalTitle')\n",
        "print(f\"{netflix_imdb_combined.shape}\\n\\nNETFLIX IMDB COMBINED:\\n{netflix_imdb_combined.iloc[:1]}\")"
      ],
      "metadata": {
        "colab": {
          "base_uri": "https://localhost:8080/"
        },
        "id": "VoOcj3WQ8OtX",
        "outputId": "d9560c13-005d-4938-937a-e518314edd6d"
      },
      "execution_count": 79,
      "outputs": [
        {
          "output_type": "stream",
          "name": "stdout",
          "text": [
            "(13351, 24)\n",
            "\n",
            "NETFLIX IMDB COMBINED:\n",
            "  show_id     type          title       director  \\\n",
            "0      s6  TV Show  Midnight Mass  Mike Flanagan   \n",
            "\n",
            "                                                cast country  \\\n",
            "0  Kate Siegel, Zach Gilford, Hamish Linklater, H...     NaN   \n",
            "\n",
            "           date_added  release_year rating  duration  ...   primaryTitle  \\\n",
            "0  September 24, 2021          2021  TV-MA  1 Season  ...  Midnight Mass   \n",
            "\n",
            "   originalTitle isAdult startYear endYear runtimeMinutes genres     tconst  \\\n",
            "0  Midnight Mass       0      1999      \\N             \\N  Drama  tt0216854   \n",
            "\n",
            "  averageRating numVotes  \n",
            "0           5.3       11  \n",
            "\n",
            "[1 rows x 24 columns]\n"
          ]
        }
      ]
    },
    {
      "cell_type": "markdown",
      "source": [
        "Now we have a combined dataframe of the shows available on netflix, and their imdb information. Lets filter out the TV shows"
      ],
      "metadata": {
        "id": "ZaokfM0E_km7"
      }
    },
    {
      "cell_type": "code",
      "source": [
        "netflix_imdb_combined_no_tv = netflix_imdb_combined[(netflix_imdb_combined['type'] == 'Movie')]\n",
        "print(f\"{netflix_imdb_combined_no_tv.shape}\\n\\nCOMBINED NO TV:\\n{netflix_imdb_combined_no_tv.iloc[:1]}\")"
      ],
      "metadata": {
        "colab": {
          "base_uri": "https://localhost:8080/"
        },
        "id": "ugjwza_4aQTP",
        "outputId": "879e5803-47ce-44f4-8825-a800c4b0fe5d"
      },
      "execution_count": 80,
      "outputs": [
        {
          "output_type": "stream",
          "name": "stdout",
          "text": [
            "(9317, 24)\n",
            "\n",
            "COMBINED NO TV:\n",
            "  show_id   type                             title  \\\n",
            "2      s7  Movie  My Little Pony: A New Generation   \n",
            "\n",
            "                        director  \\\n",
            "2  Robert Cullen, José Luis Ucha   \n",
            "\n",
            "                                                cast country  \\\n",
            "2  Vanessa Hudgens, Kimiko Glenn, James Marsden, ...     NaN   \n",
            "\n",
            "           date_added  release_year rating duration  ...  \\\n",
            "2  September 24, 2021          2021     PG   91 min  ...   \n",
            "\n",
            "                       primaryTitle                     originalTitle isAdult  \\\n",
            "2  My Little Pony: A New Generation  My Little Pony: A New Generation       0   \n",
            "\n",
            "  startYear endYear runtimeMinutes                      genres     tconst  \\\n",
            "2      2021      \\N             90  Adventure,Animation,Comedy  tt4485950   \n",
            "\n",
            "  averageRating numVotes  \n",
            "2           7.9       12  \n",
            "\n",
            "[1 rows x 24 columns]\n"
          ]
        }
      ]
    },
    {
      "cell_type": "markdown",
      "source": [
        " Lets start by creating our test/training data split (85/15)"
      ],
      "metadata": {
        "id": "lUj9LCzebZOH"
      }
    },
    {
      "cell_type": "code",
      "source": [
        "from sklearn.model_selection import train_test_split"
      ],
      "metadata": {
        "id": "VNzOtFRfcT7A"
      },
      "execution_count": 81,
      "outputs": []
    },
    {
      "cell_type": "code",
      "source": [
        "train, test = train_test_split(netflix_imdb_combined_no_tv, test_size=0.15)\n",
        "\n",
        "print(f\"TRAINING:\\t{train.shape}\\n{train.iloc[:1]}\\n\\n\\nTESTING:\\t{test.shape}\\n{test.iloc[:1]}\")"
      ],
      "metadata": {
        "colab": {
          "base_uri": "https://localhost:8080/"
        },
        "id": "hbOfCiAUcj7x",
        "outputId": "31915258-4ede-4605-cc69-3bdc917c6d05"
      },
      "execution_count": 82,
      "outputs": [
        {
          "output_type": "stream",
          "name": "stdout",
          "text": [
            "TRAINING:\t(7919, 24)\n",
            "     show_id   type                title         director  \\\n",
            "9524   s6493  Movie  Clash of the Titans  Louis Leterrier   \n",
            "\n",
            "                                                   cast  \\\n",
            "9524  Sam Worthington, Liam Neeson, Ralph Fiennes, J...   \n",
            "\n",
            "                                       country      date_added  release_year  \\\n",
            "9524  United States, United Kingdom, Australia  August 1, 2019          2010   \n",
            "\n",
            "     rating duration  ...         primaryTitle        originalTitle isAdult  \\\n",
            "9524  PG-13  106 min  ...  Clash of the Titans  Clash of the Titans       0   \n",
            "\n",
            "     startYear endYear runtimeMinutes                   genres     tconst  \\\n",
            "9524      1981      \\N            118  Action,Adventure,Family  tt0108877   \n",
            "\n",
            "     averageRating numVotes  \n",
            "9524           8.5       45  \n",
            "\n",
            "[1 rows x 24 columns]\n",
            "\n",
            "\n",
            "TESTING:\t(1398, 24)\n",
            "      show_id   type        title                      director cast  \\\n",
            "11829   s8062  Movie  Sour Grapes  Jerry Rothwell, Reuben Atlas  NaN   \n",
            "\n",
            "              country         date_added  release_year rating duration  ...  \\\n",
            "11829  United Kingdom  November 18, 2016          2016     NR   85 min  ...   \n",
            "\n",
            "      primaryTitle originalTitle isAdult startYear endYear runtimeMinutes  \\\n",
            "11829  Sour Grapes   Sour Grapes       0      1998      \\N             91   \n",
            "\n",
            "       genres     tconst averageRating numVotes  \n",
            "11829  Comedy  tt0175698           4.8      630  \n",
            "\n",
            "[1 rows x 24 columns]\n"
          ]
        }
      ]
    },
    {
      "cell_type": "code",
      "source": [
        "# Generate list of all genres\n",
        "genre_list = []\n",
        "\n",
        "for genres in train['genres']:\n",
        "  genre_sep = genres.split(',')\n",
        "  genre_list = genre_list + genre_sep\n",
        "\n",
        "# Find unique genres from our data.\n",
        "list_set = set(genre_list)\n",
        "unique_list_genre = (list(list_set))\n",
        "for genre in unique_list_genre:\n",
        "  print(genre)"
      ],
      "metadata": {
        "colab": {
          "base_uri": "https://localhost:8080/"
        },
        "id": "lUcbNJzB9TVQ",
        "outputId": "0898adf2-ebbf-49f0-89fa-9c512833e4d6"
      },
      "execution_count": 83,
      "outputs": [
        {
          "output_type": "stream",
          "name": "stdout",
          "text": [
            "Documentary\n",
            "History\n",
            "Talk-Show\n",
            "Romance\n",
            "\\N\n",
            "Game-Show\n",
            "Short\n",
            "Adult\n",
            "Sport\n",
            "Adventure\n",
            "Family\n",
            "Crime\n",
            "Western\n",
            "Drama\n",
            "Film-Noir\n",
            "Musical\n",
            "Animation\n",
            "Sci-Fi\n",
            "Thriller\n",
            "Action\n",
            "Music\n",
            "Fantasy\n",
            "Mystery\n",
            "News\n",
            "Reality-TV\n",
            "Biography\n",
            "War\n",
            "Comedy\n",
            "Horror\n"
          ]
        }
      ]
    },
    {
      "cell_type": "code",
      "source": [
        "Documentary = train.loc[(train['genres'].str.contains('Documentary'))]\n",
        "print(f'Documentary:\\t{Documentary.shape}\\n{Documentary.iloc[:1]}')\n",
        "\n",
        "\n",
        "History = train.loc[(train['genres'].str.contains('History'))]\n",
        "print(f'\\n\\nHistory:\\t{History.shape}\\n{History.iloc[:1]}')\n",
        "\n",
        "\n",
        "Romance = train.loc[(train['genres'].str.contains('Romance'))]\n",
        "print(f'\\n\\nRomance:\\t{Romance.shape}\\n{Romance.iloc[:1]}')\n",
        "\n",
        "\n",
        "Short = train.loc[(train['genres'].str.contains('Short'))]\n",
        "print(f'\\n\\nShort:\\t{Short.shape}\\n{Short.iloc[:1]}')\n",
        "\n",
        "\n",
        "Sport = train.loc[(train['genres'].str.contains('Sport'))]\n",
        "print(f'\\n\\nSport:\\t{Sport.shape}\\n{Sport.iloc[:1]}')\n",
        "\n",
        "\n",
        "Adventure = train.loc[(train['genres'].str.contains('Adventure'))]\n",
        "print(f'\\n\\nAdventure:\\t{Adventure.shape}\\n{Adventure.iloc[:1]}')\n",
        "\n",
        "\n",
        "Family = train.loc[(train['genres'].str.contains('Family'))]\n",
        "print(f'\\n\\nFamily:\\t{Family.shape}\\n{Family.iloc[:1]}')\n",
        "\n",
        "\n",
        "Crime = train.loc[(train['genres'].str.contains('Crime'))]\n",
        "print(f'\\n\\nCrime:\\t{Crime.shape}\\n{Crime.iloc[:1]}')\n",
        "\n",
        "\n",
        "Western = train.loc[(train['genres'].str.contains('Western'))]\n",
        "print(f'\\n\\nWestern:\\t{Western.shape}\\n{Western.iloc[:1]}')\n",
        "\n",
        "\n",
        "Drama = train.loc[(train['genres'].str.contains('Drama'))]\n",
        "print(f'\\n\\nDrama:\\t{Drama.shape}\\n{Drama.iloc[:1]}')\n",
        "\n",
        "\n",
        "Film_Noir = train.loc[(train['genres'].str.contains('Film-Noir'))]\n",
        "print(f'\\n\\nFilm-Noir:\\t{Film_Noir.shape}\\n{Film_Noir.iloc[:1]}')\n",
        "\n",
        "\n",
        "Musical = train.loc[(train['genres'].str.contains('Musical'))]\n",
        "print(f'\\n\\nMusical:\\t{Musical.shape}\\n{Musical.iloc[:1]}')\n",
        "\n",
        "\n",
        "Animation = train.loc[(train['genres'].str.contains('Animation'))]\n",
        "print(f'\\n\\nAnimation:\\t{Animation.shape}\\n{Animation.iloc[:1]}')\n",
        "\n",
        "\n",
        "Sci_Fi = train.loc[(train['genres'].str.contains('Sci-Fi'))]\n",
        "print(f'\\n\\nSci-Fi:\\t{Sci_Fi.shape}\\n{Sci_Fi.iloc[:1]}')\n",
        "\n",
        "\n",
        "Thriller = train.loc[(train['genres'].str.contains('Thriller'))]\n",
        "print(f'\\n\\nThriller:\\t{Thriller.shape}\\n{Thriller.iloc[:1]}')\n",
        "\n",
        "\n",
        "Action = train.loc[(train['genres'].str.contains('Action'))]\n",
        "print(f'\\n\\nAction:\\t{Action.shape}\\n{Action.iloc[:1]}')\n",
        "\n",
        "\n",
        "Music = train.loc[(train['genres'].str.contains('Music'))]\n",
        "print(f'\\n\\nMusic:\\t{Music.shape}\\n{Music.iloc[:1]}')\n",
        "\n",
        "\n",
        "Fantasy = train.loc[(train['genres'].str.contains('Fantasy'))]\n",
        "print(f'\\n\\nFantasy:\\t{Fantasy.shape}\\n{Fantasy.iloc[:1]}')\n",
        "\n",
        "\n",
        "Mystery = train.loc[(train['genres'].str.contains('Mystery'))]\n",
        "print(f'\\n\\nMystery:\\t{Mystery.shape}\\n{Mystery.iloc[:1]}')\n",
        "\n",
        "\n",
        "War = train.loc[(train['genres'].str.contains('War'))]\n",
        "print(f'\\n\\nWar:\\t{War.shape}\\n{War.iloc[:1]}')\n",
        "\n",
        "\n",
        "Comedy = train.loc[(train['genres'].str.contains('Comedy'))]\n",
        "print(f'\\n\\nComedy:\\t{Comedy.shape}\\n{Comedy.iloc[:1]}')\n",
        "\n",
        "\n",
        "Horror = train.loc[(train['genres'].str.contains('Horror'))]\n",
        "print(f'\\n\\nHorror:\\t{Horror.shape}\\n{Horror.iloc[:1]}')"
      ],
      "metadata": {
        "colab": {
          "base_uri": "https://localhost:8080/"
        },
        "id": "opx6_1K9IBZN",
        "outputId": "59cb2b8c-bee1-4e7e-8d52-67af77814048"
      },
      "execution_count": 84,
      "outputs": [
        {
          "output_type": "stream",
          "name": "stdout",
          "text": [
            "Documentary:\t(477, 24)\n",
            "     show_id   type   title            director  \\\n",
            "3019   s1822  Movie  Listen  Philippe Aractingi   \n",
            "\n",
            "                                                   cast  country  \\\n",
            "3019  Hadi Bou Ayash, Ruba Zarour, Yara Bou Nassar, ...  Lebanon   \n",
            "\n",
            "            date_added  release_year rating duration  ... primaryTitle  \\\n",
            "3019  October 19, 2020          2017  TV-MA  103 min  ...       Listen   \n",
            "\n",
            "     originalTitle isAdult startYear endYear runtimeMinutes       genres  \\\n",
            "3019        Listen       0      2004      \\N             \\N  Documentary   \n",
            "\n",
            "         tconst averageRating numVotes  \n",
            "3019  tt2763990           7.7       11  \n",
            "\n",
            "[1 rows x 24 columns]\n",
            "\n",
            "\n",
            "History:\t(103, 24)\n",
            "      show_id   type                 title         director  \\\n",
            "10632   s7157  Movie  K-19: The Widowmaker  Kathryn Bigelow   \n",
            "\n",
            "                                                    cast  \\\n",
            "10632  Harrison Ford, Liam Neeson, Peter Sarsgaard, S...   \n",
            "\n",
            "                                              country         date_added  \\\n",
            "10632  United Kingdom, Germany, Canada, United States  November 21, 2019   \n",
            "\n",
            "       release_year rating duration  ...          primaryTitle  \\\n",
            "10632          2002  PG-13  138 min  ...  K-19: The Widowmaker   \n",
            "\n",
            "              originalTitle isAdult startYear endYear runtimeMinutes  \\\n",
            "10632  K-19: The Widowmaker       0      2002      \\N            138   \n",
            "\n",
            "                       genres     tconst averageRating numVotes  \n",
            "10632  Drama,History,Thriller  tt0485073           3.8       42  \n",
            "\n",
            "[1 rows x 24 columns]\n",
            "\n",
            "\n",
            "Romance:\t(599, 24)\n",
            "     show_id   type          title        director  \\\n",
            "9150   s6271  Movie  Becoming Jane  Julian Jarrold   \n",
            "\n",
            "                                                   cast  \\\n",
            "9150  Anne Hathaway, James McAvoy, Julie Walters, Ja...   \n",
            "\n",
            "                      country        date_added  release_year rating duration  \\\n",
            "9150  United Kingdom, Ireland  January 12, 2019          2007  PG-13  121 min   \n",
            "\n",
            "      ...   primaryTitle  originalTitle isAdult startYear endYear  \\\n",
            "9150  ...  Becoming Jane  Becoming Jane       0      2007      \\N   \n",
            "\n",
            "     runtimeMinutes                   genres     tconst averageRating numVotes  \n",
            "9150            120  Biography,Drama,Romance  tt0834805           6.6       44  \n",
            "\n",
            "[1 rows x 24 columns]\n",
            "\n",
            "\n",
            "Short:\t(1285, 24)\n",
            "     show_id   type     title       director  \\\n",
            "4889   s2934  Movie  Polaroid  Lars Klevberg   \n",
            "\n",
            "                                                   cast  \\\n",
            "4889  Kathryn Prescott, Mitch Pileggi, Grace Zabrisk...   \n",
            "\n",
            "                            country        date_added  release_year rating  \\\n",
            "4889  United States, Norway, Canada  February 9, 2020          2019  PG-13   \n",
            "\n",
            "     duration  ... primaryTitle originalTitle isAdult startYear endYear  \\\n",
            "4889   88 min  ...     Polaroid      Polaroid       0      2018      \\N   \n",
            "\n",
            "     runtimeMinutes genres     tconst averageRating numVotes  \n",
            "4889              4  Short  tt8238052           8.6       20  \n",
            "\n",
            "[1 rows x 24 columns]\n",
            "\n",
            "\n",
            "Sport:\t(85, 24)\n",
            "     show_id   type    title       director  \\\n",
            "3805   s2285  Movie  Penalty  Shubham Singh   \n",
            "\n",
            "                                                   cast country    date_added  \\\n",
            "3805  Lukram Smil, Manjot Singh, Shashank Arora, Kay...   India  July 5, 2020   \n",
            "\n",
            "      release_year rating duration  ... primaryTitle originalTitle isAdult  \\\n",
            "3805          2019  TV-14  125 min  ...      Penalty       Penalty       0   \n",
            "\n",
            "     startYear endYear runtimeMinutes genres     tconst averageRating numVotes  \n",
            "3805      2019      \\N            128  Sport  tt9320184           7.2      163  \n",
            "\n",
            "[1 rows x 24 columns]\n",
            "\n",
            "\n",
            "Adventure:\t(805, 24)\n",
            "     show_id   type                title         director  \\\n",
            "9524   s6493  Movie  Clash of the Titans  Louis Leterrier   \n",
            "\n",
            "                                                   cast  \\\n",
            "9524  Sam Worthington, Liam Neeson, Ralph Fiennes, J...   \n",
            "\n",
            "                                       country      date_added  release_year  \\\n",
            "9524  United States, United Kingdom, Australia  August 1, 2019          2010   \n",
            "\n",
            "     rating duration  ...         primaryTitle        originalTitle isAdult  \\\n",
            "9524  PG-13  106 min  ...  Clash of the Titans  Clash of the Titans       0   \n",
            "\n",
            "     startYear endYear runtimeMinutes                   genres     tconst  \\\n",
            "9524      1981      \\N            118  Action,Adventure,Family  tt0108877   \n",
            "\n",
            "     averageRating numVotes  \n",
            "9524           8.5       45  \n",
            "\n",
            "[1 rows x 24 columns]\n",
            "\n",
            "\n",
            "Family:\t(604, 24)\n",
            "     show_id   type                title         director  \\\n",
            "9524   s6493  Movie  Clash of the Titans  Louis Leterrier   \n",
            "\n",
            "                                                   cast  \\\n",
            "9524  Sam Worthington, Liam Neeson, Ralph Fiennes, J...   \n",
            "\n",
            "                                       country      date_added  release_year  \\\n",
            "9524  United States, United Kingdom, Australia  August 1, 2019          2010   \n",
            "\n",
            "     rating duration  ...         primaryTitle        originalTitle isAdult  \\\n",
            "9524  PG-13  106 min  ...  Clash of the Titans  Clash of the Titans       0   \n",
            "\n",
            "     startYear endYear runtimeMinutes                   genres     tconst  \\\n",
            "9524      1981      \\N            118  Action,Adventure,Family  tt0108877   \n",
            "\n",
            "     averageRating numVotes  \n",
            "9524           8.5       45  \n",
            "\n",
            "[1 rows x 24 columns]\n",
            "\n",
            "\n",
            "Crime:\t(1138, 24)\n",
            "     show_id   type      title        director  \\\n",
            "4222   s2504  Movie  Game Over  Ahmed Al-Badry   \n",
            "\n",
            "                                                   cast country    date_added  \\\n",
            "4222  Yousra, Mai Ezz El-Din, Ezzat Abou Aouf, Moham...   Egypt  May 19, 2020   \n",
            "\n",
            "      release_year rating duration  ... primaryTitle originalTitle isAdult  \\\n",
            "4222          2012  TV-14   96 min  ...    Game Over     Game Over       0   \n",
            "\n",
            "     startYear endYear runtimeMinutes               genres      tconst  \\\n",
            "4222      2005      \\N             \\N  Crime,Drama,Mystery  tt13057892   \n",
            "\n",
            "     averageRating numVotes  \n",
            "4222           7.6       19  \n",
            "\n",
            "[1 rows x 24 columns]\n",
            "\n",
            "\n",
            "Western:\t(201, 24)\n",
            "     show_id   type     title    director  \\\n",
            "6176   s3958  Movie  The Trap  Erik White   \n",
            "\n",
            "                                                   cast        country  \\\n",
            "6176  T.I., Mike Epps, Loretta Devine, Queen Latifah...  United States   \n",
            "\n",
            "         date_added  release_year rating duration  ... primaryTitle  \\\n",
            "6176  April 1, 2019          2017  TV-MA   91 min  ...     The Trap   \n",
            "\n",
            "     originalTitle isAdult startYear endYear runtimeMinutes   genres  \\\n",
            "6176      The Trap       0      1952      \\N             30  Western   \n",
            "\n",
            "         tconst averageRating numVotes  \n",
            "6176  tt1954487           6.4       20  \n",
            "\n",
            "[1 rows x 24 columns]\n",
            "\n",
            "\n",
            "Drama:\t(3496, 24)\n",
            "      show_id   type    title               director  \\\n",
            "11151   s7661  Movie  One Day  Banjong Pisanthanakun   \n",
            "\n",
            "                                                    cast   country  \\\n",
            "11151  Chantavit Dhanasevi, Nittha Jirayungyurn, Thee...  Thailand   \n",
            "\n",
            "              date_added  release_year rating duration  ... primaryTitle  \\\n",
            "11151  September 5, 2018          2016  TV-PG  135 min  ...      One Day   \n",
            "\n",
            "      originalTitle isAdult startYear endYear runtimeMinutes genres  \\\n",
            "11151       One Day       0      2003      \\N             48  Drama   \n",
            "\n",
            "          tconst averageRating numVotes  \n",
            "11151  tt0704405           6.0       13  \n",
            "\n",
            "[1 rows x 24 columns]\n",
            "\n",
            "\n",
            "Film-Noir:\t(12, 24)\n",
            "     show_id   type                    title    director  \\\n",
            "1836    s890  Movie  The Woman in the Window  Joe Wright   \n",
            "\n",
            "                                                   cast        country  \\\n",
            "1836  Amy Adams, Gary Oldman, Anthony Mackie, Fred H...  United States   \n",
            "\n",
            "        date_added  release_year rating duration  ...  \\\n",
            "1836  May 14, 2021          2021      R  102 min  ...   \n",
            "\n",
            "                 primaryTitle            originalTitle isAdult startYear  \\\n",
            "1836  The Woman in the Window  The Woman in the Window       0      1944   \n",
            "\n",
            "     endYear runtimeMinutes                 genres     tconst averageRating  \\\n",
            "1836      \\N            107  Crime,Drama,Film-Noir  tt0058026           6.3   \n",
            "\n",
            "     numVotes  \n",
            "1836     1157  \n",
            "\n",
            "[1 rows x 24 columns]\n",
            "\n",
            "\n",
            "Musical:\t(100, 24)\n",
            "      show_id   type                     title         director  \\\n",
            "12834   s8453  Movie  The Phantom of the Opera  Joel Schumacher   \n",
            "\n",
            "                                                    cast  \\\n",
            "12834  Gerard Butler, Emmy Rossum, Patrick Wilson, Mi...   \n",
            "\n",
            "                             country    date_added  release_year rating  \\\n",
            "12834  United Kingdom, United States  June 1, 2019          2004  PG-13   \n",
            "\n",
            "      duration  ...              primaryTitle             originalTitle  \\\n",
            "12834  141 min  ...  The Phantom of the Opera  The Phantom of the Opera   \n",
            "\n",
            "      isAdult startYear endYear runtimeMinutes                 genres  \\\n",
            "12834       0      2004      \\N            143  Drama,Musical,Romance   \n",
            "\n",
            "          tconst averageRating numVotes  \n",
            "12834  tt0539712           7.8      440  \n",
            "\n",
            "[1 rows x 24 columns]\n",
            "\n",
            "\n",
            "Animation:\t(413, 24)\n",
            "     show_id   type         title     director  \\\n",
            "9496   s6469  Movie  Child's Play  Tom Holland   \n",
            "\n",
            "                                                   cast        country  \\\n",
            "9496  Catherine Hicks, Alex Vincent, Brad Dourif, Ch...  United States   \n",
            "\n",
            "             date_added  release_year rating duration  ...  primaryTitle  \\\n",
            "9496  December 31, 2019          1988      R   87 min  ...  Child's Play   \n",
            "\n",
            "     originalTitle isAdult startYear endYear runtimeMinutes  \\\n",
            "9496  Child's Play       0      1985      \\N             23   \n",
            "\n",
            "                          genres     tconst averageRating numVotes  \n",
            "9496  Action,Adventure,Animation  tt1945978           8.0       45  \n",
            "\n",
            "[1 rows x 24 columns]\n",
            "\n",
            "\n",
            "Sci-Fi:\t(252, 24)\n",
            "      show_id   type        title       director  \\\n",
            "11460   s7862  Movie  Revelations  Vijay Jayapal   \n",
            "\n",
            "                                                    cast country  \\\n",
            "11460  Chetan, Lakshmi Priyaa Chandramouli, Ananthara...   India   \n",
            "\n",
            "          date_added  release_year rating duration  ... primaryTitle  \\\n",
            "11460  March 1, 2017          2016     NR  118 min  ...  Revelations   \n",
            "\n",
            "      originalTitle isAdult startYear endYear runtimeMinutes         genres  \\\n",
            "11460   Revelations       0      1992      \\N             \\N  Horror,Sci-Fi   \n",
            "\n",
            "          tconst averageRating numVotes  \n",
            "11460  tt3201708           5.9      257  \n",
            "\n",
            "[1 rows x 24 columns]\n",
            "\n",
            "\n",
            "Thriller:\t(440, 24)\n",
            "     show_id   type              title     director  \\\n",
            "7201   s4791  Movie  Anthony Kaun Hai?  Raj Kaushal   \n",
            "\n",
            "                                                   cast country    date_added  \\\n",
            "7201  Sanjay Dutt, Arshad Warsi, Minissha Lamba, Rag...   India  July 1, 2018   \n",
            "\n",
            "      release_year rating duration  ...       primaryTitle      originalTitle  \\\n",
            "7201          2006  TV-14  122 min  ...  Anthony Kaun Hai?  Anthony Kaun Hai?   \n",
            "\n",
            "     isAdult startYear endYear runtimeMinutes            genres      tconst  \\\n",
            "7201       0      2006      \\N            127  Mystery,Thriller  tt18250804   \n",
            "\n",
            "     averageRating numVotes  \n",
            "7201           7.1       17  \n",
            "\n",
            "[1 rows x 24 columns]\n",
            "\n",
            "\n",
            "Action:\t(1006, 24)\n",
            "     show_id   type                title         director  \\\n",
            "9524   s6493  Movie  Clash of the Titans  Louis Leterrier   \n",
            "\n",
            "                                                   cast  \\\n",
            "9524  Sam Worthington, Liam Neeson, Ralph Fiennes, J...   \n",
            "\n",
            "                                       country      date_added  release_year  \\\n",
            "9524  United States, United Kingdom, Australia  August 1, 2019          2010   \n",
            "\n",
            "     rating duration  ...         primaryTitle        originalTitle isAdult  \\\n",
            "9524  PG-13  106 min  ...  Clash of the Titans  Clash of the Titans       0   \n",
            "\n",
            "     startYear endYear runtimeMinutes                   genres     tconst  \\\n",
            "9524      1981      \\N            118  Action,Adventure,Family  tt0108877   \n",
            "\n",
            "     averageRating numVotes  \n",
            "9524           8.5       45  \n",
            "\n",
            "[1 rows x 24 columns]\n",
            "\n",
            "\n",
            "Music:\t(244, 24)\n",
            "     show_id   type           title    director  \\\n",
            "8466   s5618  Movie  Happy New Year  Farah Khan   \n",
            "\n",
            "                                                   cast country  \\\n",
            "8466  Shah Rukh Khan, Deepika Padukone, Abhishek Bac...   India   \n",
            "\n",
            "            date_added  release_year rating duration  ...    primaryTitle  \\\n",
            "8466  February 1, 2017          2014  TV-14  179 min  ...  Happy New Year   \n",
            "\n",
            "       originalTitle isAdult startYear endYear runtimeMinutes genres  \\\n",
            "8466  Happy New Year       0      1956      \\N             90  Music   \n",
            "\n",
            "          tconst averageRating numVotes  \n",
            "8466  tt21828910           7.4       22  \n",
            "\n",
            "[1 rows x 24 columns]\n",
            "\n",
            "\n",
            "Fantasy:\t(311, 24)\n",
            "      show_id   type                  title     director  \\\n",
            "12486   s8308  Movie  The Forbidden Kingdom  Rob Minkoff   \n",
            "\n",
            "                                                    cast  \\\n",
            "12486  Jackie Chan, Jet Li, Collin Chou, Liu Yifei, L...   \n",
            "\n",
            "                    country    date_added  release_year rating duration  ...  \\\n",
            "12486  United States, China  July 1, 2019          2008  PG-13  104 min  ...   \n",
            "\n",
            "                primaryTitle          originalTitle isAdult startYear endYear  \\\n",
            "12486  The Forbidden Kingdom  The Forbidden Kingdom       0      2008      \\N   \n",
            "\n",
            "      runtimeMinutes                    genres     tconst averageRating  \\\n",
            "12486            104  Action,Adventure,Fantasy  tt2140037           5.9   \n",
            "\n",
            "      numVotes  \n",
            "12486    22904  \n",
            "\n",
            "[1 rows x 24 columns]\n",
            "\n",
            "\n",
            "Mystery:\t(484, 24)\n",
            "     show_id   type      title        director  \\\n",
            "4222   s2504  Movie  Game Over  Ahmed Al-Badry   \n",
            "\n",
            "                                                   cast country    date_added  \\\n",
            "4222  Yousra, Mai Ezz El-Din, Ezzat Abou Aouf, Moham...   Egypt  May 19, 2020   \n",
            "\n",
            "      release_year rating duration  ... primaryTitle originalTitle isAdult  \\\n",
            "4222          2012  TV-14   96 min  ...    Game Over     Game Over       0   \n",
            "\n",
            "     startYear endYear runtimeMinutes               genres      tconst  \\\n",
            "4222      2005      \\N             \\N  Crime,Drama,Mystery  tt13057892   \n",
            "\n",
            "     averageRating numVotes  \n",
            "4222           7.6       19  \n",
            "\n",
            "[1 rows x 24 columns]\n",
            "\n",
            "\n",
            "War:\t(73, 24)\n",
            "     show_id   type title     director  \\\n",
            "1688    s847  Movie  Home  Tim Johnson   \n",
            "\n",
            "                                                   cast        country  \\\n",
            "1688  Jim Parsons, Rihanna, Steve Martin, Jennifer L...  United States   \n",
            "\n",
            "        date_added  release_year rating duration  ... primaryTitle  \\\n",
            "1688  May 25, 2021          2015     PG   94 min  ...         Home   \n",
            "\n",
            "     originalTitle isAdult startYear endYear runtimeMinutes     genres  \\\n",
            "1688          Home       0      1987      \\N             \\N  Drama,War   \n",
            "\n",
            "          tconst averageRating numVotes  \n",
            "1688  tt15783114           7.0       34  \n",
            "\n",
            "[1 rows x 24 columns]\n",
            "\n",
            "\n",
            "Comedy:\t(2179, 24)\n",
            "     show_id   type              title         director          cast  \\\n",
            "2510   s1451  Movie  Eddie Murphy: Raw  Robert Townsend  Eddie Murphy   \n",
            "\n",
            "            country       date_added  release_year rating duration  ...  \\\n",
            "2510  United States  January 1, 2021          1987      R   90 min  ...   \n",
            "\n",
            "           primaryTitle      originalTitle isAdult startYear endYear  \\\n",
            "2510  Eddie Murphy: Raw  Eddie Murphy: Raw       0      1987      \\N   \n",
            "\n",
            "     runtimeMinutes              genres     tconst averageRating numVotes  \n",
            "2510             93  Comedy,Documentary  tt0122132           4.9      290  \n",
            "\n",
            "[1 rows x 24 columns]\n",
            "\n",
            "\n",
            "Horror:\t(313, 24)\n",
            "     show_id   type     title       director  \\\n",
            "1093    s601  Movie  The Game  David Fincher   \n",
            "\n",
            "                                                   cast        country  \\\n",
            "1093  Michael Douglas, Sean Penn, Deborah Kara Unger...  United States   \n",
            "\n",
            "        date_added  release_year rating duration  ... primaryTitle  \\\n",
            "1093  July 1, 2021          1997      R  129 min  ...     The Game   \n",
            "\n",
            "     originalTitle isAdult startYear endYear runtimeMinutes  genres  \\\n",
            "1093      The Game       0      2019      \\N             \\N  Horror   \n",
            "\n",
            "         tconst averageRating numVotes  \n",
            "1093  tt4209250           7.9       20  \n",
            "\n",
            "[1 rows x 24 columns]\n"
          ]
        }
      ]
    },
    {
      "cell_type": "markdown",
      "source": [
        "Now all of our data is split by genre as well."
      ],
      "metadata": {
        "id": "mV-HPdPAQztp"
      }
    },
    {
      "cell_type": "code",
      "source": [],
      "metadata": {
        "id": "OA2iAcIiLZHV"
      },
      "execution_count": 84,
      "outputs": []
    }
  ]
}