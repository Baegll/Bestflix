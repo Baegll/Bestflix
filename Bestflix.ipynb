{
  "nbformat": 4,
  "nbformat_minor": 0,
  "metadata": {
    "colab": {
      "provenance": []
    },
    "kernelspec": {
      "name": "python3",
      "display_name": "Python 3"
    },
    "language_info": {
      "name": "python"
    }
  },
  "cells": [
    {
      "cell_type": "code",
      "execution_count": 1,
      "metadata": {
        "id": "mjtncImeCphQ"
      },
      "outputs": [],
      "source": [
        "import pandas as pd"
      ]
    },
    {
      "cell_type": "markdown",
      "source": [
        "IMDB (https://datasets.imdbws.com/) has data available for use, but it requires some preprocessing. For starters, the name of the movie and the rating aren't in the same dataset. So we will combine those to one pandas dataframe."
      ],
      "metadata": {
        "id": "CmsdajRio2P6"
      }
    },
    {
      "cell_type": "code",
      "source": [
        "imdb_basics = pd.read_csv('data_imdb_basics.tsv', sep='\\t')\n",
        "imdb_basics.shape"
      ],
      "metadata": {
        "colab": {
          "base_uri": "https://localhost:8080/"
        },
        "id": "XZgSPCcW75Zd",
        "outputId": "7680f6b4-6836-40a6-dc80-4799dd789656"
      },
      "execution_count": 2,
      "outputs": [
        {
          "output_type": "execute_result",
          "data": {
            "text/plain": [
              "(473433, 9)"
            ]
          },
          "metadata": {},
          "execution_count": 2
        }
      ]
    },
    {
      "cell_type": "code",
      "source": [
        "imdb_ratings = pd.read_csv('data_imdb_ratings.tsv', sep='\\t')\n",
        "imdb_ratings.shape"
      ],
      "metadata": {
        "colab": {
          "base_uri": "https://localhost:8080/"
        },
        "id": "aTPqX_iL76gz",
        "outputId": "6479d83c-6c20-46c8-90cf-6c1c46fbe8dc"
      },
      "execution_count": 3,
      "outputs": [
        {
          "output_type": "execute_result",
          "data": {
            "text/plain": [
              "(1280237, 3)"
            ]
          },
          "metadata": {},
          "execution_count": 3
        }
      ]
    },
    {
      "cell_type": "code",
      "source": [
        "netflix = pd.read_csv('netflix_titles.csv')\n",
        "netflix.shape"
      ],
      "metadata": {
        "colab": {
          "base_uri": "https://localhost:8080/"
        },
        "id": "Q9HnXRLJ76Lh",
        "outputId": "283d0d08-f0b4-4633-92c7-4cd1ef5ddcd1"
      },
      "execution_count": 4,
      "outputs": [
        {
          "output_type": "execute_result",
          "data": {
            "text/plain": [
              "(8807, 12)"
            ]
          },
          "metadata": {},
          "execution_count": 4
        }
      ]
    },
    {
      "cell_type": "code",
      "source": [
        "print(f\"NETFLIX:\\n{netflix.iloc[:1]}\\n\\n\\nIMDB BASICS:\\n{imdb_basics.iloc[:5]}\\n\\n\\nIMDB RATINGS:\\n{imdb_ratings.iloc[:5]}\")"
      ],
      "metadata": {
        "colab": {
          "base_uri": "https://localhost:8080/"
        },
        "id": "C-3d9ySZQb6S",
        "outputId": "ceb8343f-1638-41b9-8e06-cffb607a7e7b"
      },
      "execution_count": 5,
      "outputs": [
        {
          "output_type": "stream",
          "name": "stdout",
          "text": [
            "NETFLIX:\n",
            "  show_id   type                 title         director cast        country  \\\n",
            "0      s1  Movie  Dick Johnson Is Dead  Kirsten Johnson  NaN  United States   \n",
            "\n",
            "           date_added  release_year rating duration      listed_in  \\\n",
            "0  September 25, 2021          2020  PG-13   90 min  Documentaries   \n",
            "\n",
            "                                         description  \n",
            "0  As her father nears the end of his life, filmm...  \n",
            "\n",
            "\n",
            "IMDB BASICS:\n",
            "      tconst titleType            primaryTitle           originalTitle  \\\n",
            "0  tt0000001     short              Carmencita              Carmencita   \n",
            "1  tt0000002     short  Le clown et ses chiens  Le clown et ses chiens   \n",
            "2  tt0000003     short          Pauvre Pierrot          Pauvre Pierrot   \n",
            "3  tt0000004     short             Un bon bock             Un bon bock   \n",
            "4  tt0000005     short        Blacksmith Scene        Blacksmith Scene   \n",
            "\n",
            "   isAdult startYear endYear runtimeMinutes                    genres  \n",
            "0        0      1894      \\N              1         Documentary,Short  \n",
            "1        0      1892      \\N              5           Animation,Short  \n",
            "2        0      1892      \\N              4  Animation,Comedy,Romance  \n",
            "3        0      1892      \\N             12           Animation,Short  \n",
            "4        0      1893      \\N              1              Comedy,Short  \n",
            "\n",
            "\n",
            "IMDB RATINGS:\n",
            "      tconst  averageRating  numVotes\n",
            "0  tt0000001            5.7      1952\n",
            "1  tt0000002            5.8       264\n",
            "2  tt0000003            6.5      1786\n",
            "3  tt0000004            5.6       179\n",
            "4  tt0000005            6.2      2586\n"
          ]
        }
      ]
    },
    {
      "cell_type": "code",
      "source": [
        "imdb_combined = pd.concat([imdb_basics, imdb_ratings], axis=1, join='inner')\n",
        "print(f\"{imdb_combined.shape}\")\n",
        "\n",
        "print(f\"\\nIMDB COMBINED:\\n{imdb_combined.iloc[:5]}\")"
      ],
      "metadata": {
        "colab": {
          "base_uri": "https://localhost:8080/"
        },
        "id": "MjbeMqsHcQ_F",
        "outputId": "b0e3ef01-d588-422a-d102-4ec1d6bf970e"
      },
      "execution_count": 6,
      "outputs": [
        {
          "output_type": "stream",
          "name": "stdout",
          "text": [
            "(473433, 12)\n",
            "\n",
            "IMDB COMBINED:\n",
            "      tconst titleType            primaryTitle           originalTitle  \\\n",
            "0  tt0000001     short              Carmencita              Carmencita   \n",
            "1  tt0000002     short  Le clown et ses chiens  Le clown et ses chiens   \n",
            "2  tt0000003     short          Pauvre Pierrot          Pauvre Pierrot   \n",
            "3  tt0000004     short             Un bon bock             Un bon bock   \n",
            "4  tt0000005     short        Blacksmith Scene        Blacksmith Scene   \n",
            "\n",
            "   isAdult startYear endYear runtimeMinutes                    genres  \\\n",
            "0        0      1894      \\N              1         Documentary,Short   \n",
            "1        0      1892      \\N              5           Animation,Short   \n",
            "2        0      1892      \\N              4  Animation,Comedy,Romance   \n",
            "3        0      1892      \\N             12           Animation,Short   \n",
            "4        0      1893      \\N              1              Comedy,Short   \n",
            "\n",
            "      tconst  averageRating  numVotes  \n",
            "0  tt0000001            5.7      1952  \n",
            "1  tt0000002            5.8       264  \n",
            "2  tt0000003            6.5      1786  \n",
            "3  tt0000004            5.6       179  \n",
            "4  tt0000005            6.2      2586  \n"
          ]
        }
      ]
    },
    {
      "cell_type": "markdown",
      "source": [
        "Data is now in two sets, Netflix information, and IMDB information. Lets create one data set that contains Netflix, and IMDB movies together."
      ],
      "metadata": {
        "id": "N09pIFG833NT"
      }
    },
    {
      "cell_type": "code",
      "source": [
        "netflix_imdb_combined = pd.merge(netflix,imdb_combined, suffixes=['_netflix','_imdb'], left_on='title', right_on='originalTitle')\n",
        "print(f\"{netflix_imdb_combined.shape}\\n\\nNETFLIX IMDB COMBINED:\\n{netflix_imdb_combined.iloc[:1]}\")"
      ],
      "metadata": {
        "colab": {
          "base_uri": "https://localhost:8080/"
        },
        "id": "VoOcj3WQ8OtX",
        "outputId": "786361cc-a4bd-4959-c90e-3d27a146020e"
      },
      "execution_count": 11,
      "outputs": [
        {
          "output_type": "stream",
          "name": "stdout",
          "text": [
            "(5195, 24)\n",
            "\n",
            "NETFLIX IMDB COMBINED:\n",
            "  show_id     type          title       director  \\\n",
            "0      s6  TV Show  Midnight Mass  Mike Flanagan   \n",
            "\n",
            "                                                cast country  \\\n",
            "0  Kate Siegel, Zach Gilford, Hamish Linklater, H...     NaN   \n",
            "\n",
            "           date_added  release_year rating  duration  ...   primaryTitle  \\\n",
            "0  September 24, 2021          2021  TV-MA  1 Season  ...  Midnight Mass   \n",
            "\n",
            "   originalTitle isAdult startYear endYear runtimeMinutes  genres     tconst  \\\n",
            "0  Midnight Mass       0      1999      \\N             \\N   Drama  tt0216854   \n",
            "\n",
            "  averageRating numVotes  \n",
            "0           5.3       11  \n",
            "\n",
            "[1 rows x 24 columns]\n"
          ]
        }
      ]
    },
    {
      "cell_type": "markdown",
      "source": [
        "Now we have a combined dataframe of the shows available on netflix, and their imdb information. Lets filter out the TV shows"
      ],
      "metadata": {
        "id": "ZaokfM0E_km7"
      }
    },
    {
      "cell_type": "code",
      "source": [
        "netflix_imdb_combined_no_tv = netflix_imdb_combined[(netflix_imdb_combined['type'] == 'Movie')]\n",
        "print(f\"{netflix_imdb_combined_no_tv.shape}\\n\\nCOMBINED NO TV:\\n{netflix_imdb_combined_no_tv.iloc[:1]}\")"
      ],
      "metadata": {
        "colab": {
          "base_uri": "https://localhost:8080/"
        },
        "id": "ugjwza_4aQTP",
        "outputId": "c44e970e-a584-465b-f935-b541078d33c1"
      },
      "execution_count": 12,
      "outputs": [
        {
          "output_type": "stream",
          "name": "stdout",
          "text": [
            "(3729, 24)\n",
            "\n",
            "COMBINED NO TV:\n",
            "  show_id   type    title      director  \\\n",
            "2      s8  Movie  Sankofa  Haile Gerima   \n",
            "\n",
            "                                                cast  \\\n",
            "2  Kofi Ghanaba, Oyafunmike Ogunlano, Alexandra D...   \n",
            "\n",
            "                                             country          date_added  \\\n",
            "2  United States, Ghana, Burkina Faso, United Kin...  September 24, 2021   \n",
            "\n",
            "   release_year rating duration  ... primaryTitle originalTitle isAdult  \\\n",
            "2          1993  TV-MA  125 min  ...      Sankofa       Sankofa       0   \n",
            "\n",
            "  startYear endYear runtimeMinutes  genres     tconst averageRating numVotes  \n",
            "2      1993      \\N            125   Drama  tt0150986           5.7       51  \n",
            "\n",
            "[1 rows x 24 columns]\n"
          ]
        }
      ]
    },
    {
      "cell_type": "markdown",
      "source": [
        "This has gotten rid of ~1500 titles from our dataframe, hopefully a n=2729 is sufficient for our data mining. Lets start by creating our test/training data split (75/15)"
      ],
      "metadata": {
        "id": "lUj9LCzebZOH"
      }
    },
    {
      "cell_type": "code",
      "source": [
        "from sklearn.model_selection import train_test_split"
      ],
      "metadata": {
        "id": "VNzOtFRfcT7A"
      },
      "execution_count": 13,
      "outputs": []
    },
    {
      "cell_type": "code",
      "source": [
        "train, test = train_test_split(netflix_imdb_combined_no_tv, test_size=0.15)\n",
        "\n",
        "print(f\"TRAINING:\\t{train.shape}\\n{train.iloc[:1]}\\n\\n\\nTESTING:\\t{test.shape}\\n{test.iloc[:1]}\")"
      ],
      "metadata": {
        "colab": {
          "base_uri": "https://localhost:8080/"
        },
        "id": "hbOfCiAUcj7x",
        "outputId": "2269befa-6638-4ac8-822d-9a2915ff2ebd"
      },
      "execution_count": 18,
      "outputs": [
        {
          "output_type": "stream",
          "name": "stdout",
          "text": [
            "TRAINING:\t(3169, 24)\n",
            "    show_id   type      title     director  \\\n",
            "395    s595  Movie  Star Trek  J.J. Abrams   \n",
            "\n",
            "                                                  cast  \\\n",
            "395  Chris Pine, Zachary Quinto, Karl Urban, Zoe Sa...   \n",
            "\n",
            "                    country    date_added  release_year rating duration  ...  \\\n",
            "395  United States, Germany  July 1, 2021          2009  PG-13  128 min  ...   \n",
            "\n",
            "                       primaryTitle originalTitle isAdult startYear endYear  \\\n",
            "395  Star Trek: The Animated Series     Star Trek       0      1973    1975   \n",
            "\n",
            "    runtimeMinutes                      genres     tconst averageRating  \\\n",
            "395             30  Action,Adventure,Animation  tt0094423           8.3   \n",
            "\n",
            "    numVotes  \n",
            "395       42  \n",
            "\n",
            "[1 rows x 24 columns]\n",
            "\n",
            "\n",
            "TESTING:\t(560, 24)\n",
            "     show_id   type       title        director  \\\n",
            "4784   s8228  Movie  The Bridge  Kunle Afolayan   \n",
            "\n",
            "                                                   cast  country  \\\n",
            "4784  Chidinma Ekile, Ademola Adedoyin, Kunle Afolay...  Nigeria   \n",
            "\n",
            "             date_added  release_year rating duration  ... primaryTitle  \\\n",
            "4784  September 1, 2019          2017  TV-14  119 min  ...   The Bridge   \n",
            "\n",
            "     originalTitle isAdult startYear endYear runtimeMinutes  genres  \\\n",
            "4784    The Bridge       0      2005      \\N             \\N   Music   \n",
            "\n",
            "          tconst averageRating numVotes  \n",
            "4784  tt10423294           7.5       26  \n",
            "\n",
            "[1 rows x 24 columns]\n"
          ]
        }
      ]
    },
    {
      "cell_type": "markdown",
      "source": [
        "After our split, we have 3169 items to train our model with and 560 to test it."
      ],
      "metadata": {
        "id": "JAk_Z4J_dDpq"
      }
    }
  ]
}