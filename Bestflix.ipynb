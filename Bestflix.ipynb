{
  "nbformat": 4,
  "nbformat_minor": 0,
  "metadata": {
    "colab": {
      "provenance": []
    },
    "kernelspec": {
      "name": "python3",
      "display_name": "Python 3"
    },
    "language_info": {
      "name": "python"
    }
  },
  "cells": [
    {
      "cell_type": "code",
      "execution_count": 14,
      "metadata": {
        "id": "mjtncImeCphQ"
      },
      "outputs": [],
      "source": [
        "import pandas as pd"
      ]
    },
    {
      "cell_type": "markdown",
      "source": [
        "IMDB (https://datasets.imdbws.com/) has data available for use, but it requires some preprocessing. For starters, the name of the movie and the rating aren't in the same dataset. So we will combine those to one pandas dataframe."
      ],
      "metadata": {
        "id": "CmsdajRio2P6"
      }
    },
    {
      "cell_type": "code",
      "source": [
        "imdb_basics = pd.read_csv('data_imdb_basics.tsv', sep='\\t')\n",
        "imdb_ratings = pd.read_csv('data_imdb_ratings.tsv', sep='\\t')"
      ],
      "metadata": {
        "id": "6Mu4ajFZPeWW"
      },
      "execution_count": 16,
      "outputs": []
    },
    {
      "cell_type": "code",
      "source": [
        "print(imdb_basics.iloc[:5])"
      ],
      "metadata": {
        "colab": {
          "base_uri": "https://localhost:8080/"
        },
        "id": "C-3d9ySZQb6S",
        "outputId": "fca11c9e-9632-4726-b058-813ae42a4180"
      },
      "execution_count": 31,
      "outputs": [
        {
          "output_type": "stream",
          "name": "stdout",
          "text": [
            "      tconst titleType            primaryTitle           originalTitle  \\\n",
            "0  tt0000001     short              Carmencita              Carmencita   \n",
            "1  tt0000002     short  Le clown et ses chiens  Le clown et ses chiens   \n",
            "2  tt0000003     short          Pauvre Pierrot          Pauvre Pierrot   \n",
            "3  tt0000004     short             Un bon bock             Un bon bock   \n",
            "4  tt0000005     short        Blacksmith Scene        Blacksmith Scene   \n",
            "\n",
            "   isAdult startYear endYear runtimeMinutes                    genres  \n",
            "0      0.0      1894      \\N              1         Documentary,Short  \n",
            "1      0.0      1892      \\N              5           Animation,Short  \n",
            "2      0.0      1892      \\N              4  Animation,Comedy,Romance  \n",
            "3      0.0      1892      \\N             12           Animation,Short  \n",
            "4      0.0      1893      \\N              1              Comedy,Short  \n"
          ]
        }
      ]
    },
    {
      "cell_type": "code",
      "source": [
        "print(imdb_ratings.iloc[:5])"
      ],
      "metadata": {
        "colab": {
          "base_uri": "https://localhost:8080/"
        },
        "id": "3XlF72rca-jN",
        "outputId": "e8dea863-48b1-41fa-b15e-047d2e09b3bb"
      },
      "execution_count": 32,
      "outputs": [
        {
          "output_type": "stream",
          "name": "stdout",
          "text": [
            "      tconst  averageRating  numVotes\n",
            "0  tt0000001            5.7      1952\n",
            "1  tt0000002            5.8       264\n",
            "2  tt0000003            6.5      1786\n",
            "3  tt0000004            5.6       179\n",
            "4  tt0000005            6.2      2586\n"
          ]
        }
      ]
    },
    {
      "cell_type": "code",
      "source": [
        "imdb_combined = pd.concat([imdb_basics, imdb_ratings], axis=1, join='inner')"
      ],
      "metadata": {
        "id": "Y6yaZEE0cEbk"
      },
      "execution_count": 26,
      "outputs": []
    },
    {
      "cell_type": "code",
      "source": [
        "print(imdb_combined.iloc[:5])"
      ],
      "metadata": {
        "colab": {
          "base_uri": "https://localhost:8080/"
        },
        "id": "MjbeMqsHcQ_F",
        "outputId": "757c7169-6510-4a6b-d959-b8322a146043"
      },
      "execution_count": 33,
      "outputs": [
        {
          "output_type": "stream",
          "name": "stdout",
          "text": [
            "      tconst titleType            primaryTitle           originalTitle  \\\n",
            "0  tt0000001     short              Carmencita              Carmencita   \n",
            "1  tt0000002     short  Le clown et ses chiens  Le clown et ses chiens   \n",
            "2  tt0000003     short          Pauvre Pierrot          Pauvre Pierrot   \n",
            "3  tt0000004     short             Un bon bock             Un bon bock   \n",
            "4  tt0000005     short        Blacksmith Scene        Blacksmith Scene   \n",
            "\n",
            "   isAdult startYear endYear runtimeMinutes                    genres  \\\n",
            "0      0.0      1894      \\N              1         Documentary,Short   \n",
            "1      0.0      1892      \\N              5           Animation,Short   \n",
            "2      0.0      1892      \\N              4  Animation,Comedy,Romance   \n",
            "3      0.0      1892      \\N             12           Animation,Short   \n",
            "4      0.0      1893      \\N              1              Comedy,Short   \n",
            "\n",
            "      tconst  averageRating  numVotes  \n",
            "0  tt0000001            5.7      1952  \n",
            "1  tt0000002            5.8       264  \n",
            "2  tt0000003            6.5      1786  \n",
            "3  tt0000004            5.6       179  \n",
            "4  tt0000005            6.2      2586  \n"
          ]
        }
      ]
    }
  ]
}